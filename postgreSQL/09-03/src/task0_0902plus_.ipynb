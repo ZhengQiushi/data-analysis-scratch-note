{
 "cells": [
  {
   "cell_type": "code",
   "execution_count": 1,
   "source": [
    "import pandas as pd\r\n",
    "'''\r\n",
    "处理某日的司机订单异常分析\r\n",
    "'''\r\n",
    "data = pd.read_excel(r\"C:\\Users\\zhengqiushi\\Desktop\\hik\\21-09-01\\data\\ZAF75566.xlsx\")"
   ],
   "outputs": [],
   "metadata": {}
  },
  {
   "cell_type": "code",
   "execution_count": 2,
   "source": [
    "print(data.columns)"
   ],
   "outputs": [
    {
     "output_type": "stream",
     "name": "stdout",
     "text": [
      "Index(['订单号', '订单ID', '机构名称', '城市', '服务类型', '订单状态', '预订人', '预订人手机号', '预订人归属地',\n",
      "       '乘车人手机号', '司机ID', '加盟商', '司机手机号', '车牌号', '下单时间', '上车地址', '下车地址',\n",
      "       '实际上车时间', '完成时间', '行驶时长(分钟)', '行驶里程', '结算时间', '预估金额', '费用总计（元）',\n",
      "       '实际支付（元）', '付款-预估', '是否风控标记', '风控理由', '是否垫付', '垫付金额', '是否轨迹异常',\n",
      "       '速度大于60km/h', '实际超预估50%', '订单预估服务时长(秒)_乘客端', '订单预估服务距离(米)_乘客端'],\n",
      "      dtype='object')\n"
     ]
    }
   ],
   "metadata": {}
  },
  {
   "cell_type": "code",
   "execution_count": 3,
   "source": [
    "import sys \r\n",
    "sys.path.append(\"../../common/map-API\") \r\n",
    "\r\n",
    "# 调用高德API得到地点坐标\r\n",
    "import Amap_router\r\n",
    "my_amaper = Amap_router.my_Amapper()\r\n",
    "\r\n",
    "print(my_amaper.get_location(\"浙江省杭州市江干区彭埠街道Costa Coffee(杭州东站)杭州东站\"))"
   ],
   "outputs": [
    {
     "output_type": "stream",
     "name": "stdout",
     "text": [
      "[120.208252, 30.291027]\n"
     ]
    }
   ],
   "metadata": {}
  },
  {
   "cell_type": "code",
   "execution_count": 5,
   "source": [
    "data[\"出发点坐标\"] = \"-\"\r\n",
    "data[\"到达点坐标\"] = \"-\"\r\n",
    "data[\"出发点geohash\"] = \"-\"\r\n",
    "data[\"到达点geohash\"] = \"-\"\r\n",
    "\r\n",
    "import geohash"
   ],
   "outputs": [],
   "metadata": {}
  },
  {
   "cell_type": "code",
   "execution_count": 6,
   "source": [
    "# 为每个订单得到相应的内容\r\n",
    "for i, r in data.iterrows():\r\n",
    "    try:\r\n",
    "        loc_start = my_amaper.get_location(r['上车地址'])\r\n",
    "        loc_end = my_amaper.get_location(r['下车地址'])\r\n",
    "    except:\r\n",
    "        data.loc[i, ('出发点坐标')] = \"--\"\r\n",
    "        data.loc[i, ('到达点坐标')] = \"--\"\r\n",
    "        continue\r\n",
    "    \r\n",
    "    data.loc[i, ('出发点坐标')] = str(loc_start[0]) + \", \" + str(loc_start[1])\r\n",
    "    data.loc[i, ('到达点坐标')] = str(loc_end[0]) + \", \" + str(loc_end[1])\r\n",
    "\r\n",
    "    data.loc[i, (\"出发点geohash\")] = geohash.encode(loc_start[1], loc_start[0], 6)\r\n",
    "    data.loc[i, (\"到达点geohash\")] = geohash.encode(loc_end[1], loc_end[0], 6)\r\n",
    "\r\n",
    "print(data.iloc[0: 5, :][\"出发点geohash\"])\r\n"
   ],
   "outputs": [
    {
     "output_type": "stream",
     "name": "stdout",
     "text": [
      "请求url返回错误异常\n"
     ]
    }
   ],
   "metadata": {}
  },
  {
   "cell_type": "code",
   "execution_count": 22,
   "source": [
    "data.to_excel(r\"C:\\Users\\zhengqiushi\\Desktop\\hik\\21-09-01\\data\\ZAF75566_.xlsx\")"
   ],
   "outputs": [],
   "metadata": {}
  },
  {
   "cell_type": "code",
   "execution_count": 2,
   "source": [
    "# 进一步处理\r\n",
    "import pandas as pd\r\n",
    "data = pd.read_excel(r\"C:\\Users\\zhengqiushi\\Desktop\\hik\\21-09-01\\data\\ZAF75566_.xlsx\")"
   ],
   "outputs": [],
   "metadata": {}
  },
  {
   "cell_type": "code",
   "execution_count": 3,
   "source": [
    "# 读进所有的坐标对内容\r\n",
    "all_paris = pd.read_csv(r\"C:\\Users\\zhengqiushi\\Desktop\\hik\\21-08-23\\data\\all_pairs_with_dist_describe_with_thresh_0903.csv\")"
   ],
   "outputs": [],
   "metadata": {}
  },
  {
   "cell_type": "code",
   "execution_count": 4,
   "source": [
    "print(data)"
   ],
   "outputs": [
    {
     "output_type": "stream",
     "name": "stdout",
     "text": [
      "     Unnamed: 0                  订单号          订单ID      机构名称   城市  服务类型  订单状态  \\\n",
      "0             0  B200102124229186000  1.437704e+09   阿里欢行-淘宝   杭州  即时用车  50.0   \n",
      "1             1  B201124173307124003  1.926502e+09     滴滴-百度   杭州  即时用车  50.0   \n",
      "2             2  B190708144736186003  9.827030e+08  阿里欢行-支付宝   杭州  即时用车  50.0   \n",
      "3             3  B200102190826203002  1.438428e+09   阿里欢行-淘宝   杭州  即时用车  50.0   \n",
      "4             4  B190719173835187003  1.010608e+09   阿里欢行-淘宝   杭州  即时用车  50.0   \n",
      "..          ...                  ...           ...       ...  ...   ...   ...   \n",
      "356         356  B201202210734502000  1.947724e+09  阿里欢行-支付宝   杭州  即时用车  50.0   \n",
      "357         357  B201202221522505000  1.947893e+09  阿里欢行-支付宝   杭州  即时用车  50.0   \n",
      "358         358  B200103115236176000  1.439698e+09      美团打车   杭州  即时用车  50.0   \n",
      "359         359  B191210125232203000  1.374792e+09      差旅一号   杭州  即时用车  50.0   \n",
      "360         360                   合计           NaN       NaN  NaN   NaN   NaN   \n",
      "\n",
      "             预订人        预订人手机号 预订人归属地  ...   垫付金额  是否轨迹异常 速度大于60km/h  \\\n",
      "0    104837543.0  1.322897e+10     阿里  ...   0.00       无  59.123077   \n",
      "1    241433410.0  1.322897e+10     阿里  ...   0.00       无  62.121951   \n",
      "2    104838335.0  1.322897e+10     阿里  ...   0.00       无  76.677778   \n",
      "3    104837543.0  1.322897e+10     阿里  ...   0.00       无  68.805000   \n",
      "4    104837543.0  1.322897e+10     阿里  ...   0.00       无  70.776923   \n",
      "..           ...           ...    ...  ...    ...     ...        ...   \n",
      "356  104838335.0  1.322897e+10     阿里  ...   0.00       无  79.089796   \n",
      "357  104838335.0  1.322897e+10     阿里  ...   0.00       无  49.577143   \n",
      "358  147705438.0  1.322897e+10     阿里  ...  47.15       无  44.400000   \n",
      "359   20629619.0  1.330894e+10     林芝  ...   0.00       无  99.984733   \n",
      "360          NaN           NaN    NaN  ...    NaN     NaN        NaN   \n",
      "\n",
      "     实际超预估50% 订单预估服务时长(秒)_乘客端 订单预估服务距离(米)_乘客端                  出发点坐标  \\\n",
      "0    0.739254          2420.0         21217.0  120.208252, 30.291027   \n",
      "1    0.776047          2861.0         25496.0  120.417098, 30.224188   \n",
      "2    1.137009          2990.0         34882.0   120.436317, 30.23112   \n",
      "3    0.637629          3083.0         26748.0  120.208252, 30.291027   \n",
      "4    0.676853          4852.0         36205.0   120.436317, 30.23112   \n",
      "..        ...             ...             ...                    ...   \n",
      "356  0.826584          3656.0         36666.0   120.436317, 30.23112   \n",
      "357  0.527870          2277.0         16787.0  120.108074, 30.266898   \n",
      "358  0.625862          1611.0          8751.0  120.202843, 30.343346   \n",
      "359  0.954463          6389.0        125338.0   120.436317, 30.23112   \n",
      "360       NaN             NaN             NaN                   0, 0   \n",
      "\n",
      "                     到达点坐标 出发点geohash 到达点geohash  \n",
      "0    120.026208, 30.279212     wtmkr6     wtmk72  \n",
      "1    120.194529, 30.232642     wtmeun     wtm7zp  \n",
      "2    120.111786, 30.268671     wtmeux     wtmkjn  \n",
      "3    120.066891, 30.140619     wtmkr6     wtm7kn  \n",
      "4    120.142686, 30.290686     wtmeux     wtmkmf  \n",
      "..                     ...        ...        ...  \n",
      "356  120.099456, 30.263554     wtmeux     wtmkhv  \n",
      "357  120.204667, 30.198957     wtmkjj     wtm7z3  \n",
      "358  120.208252, 30.291027     wtmkx7     wtmkr6  \n",
      "359  120.960416, 29.477837     wtmeux     wtnp8w  \n",
      "360                   0, 0     s00000     s00000  \n",
      "\n",
      "[361 rows x 40 columns]\n"
     ]
    }
   ],
   "metadata": {}
  },
  {
   "cell_type": "code",
   "execution_count": 9,
   "source": [
    "print(all_paris)"
   ],
   "outputs": [
    {
     "output_type": "stream",
     "name": "stdout",
     "text": [
      "            pair_name   count       mean       std    min    25%     50%  \\\n",
      "0       wtmscx_wtmt15  2400.0   4.073942  0.668451   3.03   3.60   3.945   \n",
      "1       wtms7j_wtmse9  2213.0   3.875308  0.797457   3.01   3.44   3.630   \n",
      "2       wtm7xp_wtm7zc  2171.0   4.269314  0.680579   3.04   3.80   4.180   \n",
      "3       wtmk68_wtmk72  2023.0   4.241725  1.718908   3.01   3.65   4.200   \n",
      "4       wtms6j_wtms7j  1952.0   5.127022  0.896871   3.01   4.68   5.025   \n",
      "...               ...     ...        ...       ...    ...    ...     ...   \n",
      "563058  wtmkpr_wtm6cw     1.0  44.300000       NaN  44.30  44.30  44.300   \n",
      "563059  wtmkpr_wtm6fn     1.0  40.670000       NaN  40.67  40.67  40.670   \n",
      "563060  wtmkpr_wtm712     1.0  45.370000       NaN  45.37  45.37  45.370   \n",
      "563061  wtmdb7_wtmd89     1.0   9.100000       NaN   9.10   9.10   9.100   \n",
      "563062  wttju4_wtmkq2     1.0  21.300000       NaN  21.30  21.30  21.300   \n",
      "\n",
      "           75%    max  upper_thresh  \n",
      "0        4.340   8.80        5.4500  \n",
      "1        4.190  22.50        5.3150  \n",
      "2        4.610  11.50        5.8250  \n",
      "3        4.565  71.20        5.9375  \n",
      "4        5.400  22.00        6.4800  \n",
      "...        ...    ...           ...  \n",
      "563058  44.300  44.30       44.3000  \n",
      "563059  40.670  40.67       40.6700  \n",
      "563060  45.370  45.37       45.3700  \n",
      "563061   9.100   9.10        9.1000  \n",
      "563062  21.300  21.30       21.3000  \n",
      "\n",
      "[563063 rows x 10 columns]\n"
     ]
    }
   ],
   "metadata": {}
  },
  {
   "cell_type": "code",
   "execution_count": 16,
   "source": [
    "\r\n",
    "all_paris = all_paris.rename(index= all_paris['pair_name'])"
   ],
   "outputs": [],
   "metadata": {}
  },
  {
   "cell_type": "code",
   "execution_count": 17,
   "source": [
    "\r\n",
    "all_pairs_dict = all_paris.to_dict(orient='index')"
   ],
   "outputs": [],
   "metadata": {}
  },
  {
   "cell_type": "code",
   "execution_count": 18,
   "source": [
    "print(list(all_pairs_dict.keys())[1])\r\n",
    "print(all_paris)"
   ],
   "outputs": [
    {
     "output_type": "stream",
     "name": "stdout",
     "text": [
      "wtms7j_wtmse9\n",
      "                   pair_name   count       mean       std    min    25%  \\\n",
      "wtmscx_wtmt15  wtmscx_wtmt15  2400.0   4.073942  0.668451   3.03   3.60   \n",
      "wtms7j_wtmse9  wtms7j_wtmse9  2213.0   3.875308  0.797457   3.01   3.44   \n",
      "wtm7xp_wtm7zc  wtm7xp_wtm7zc  2171.0   4.269314  0.680579   3.04   3.80   \n",
      "wtmk68_wtmk72  wtmk68_wtmk72  2023.0   4.241725  1.718908   3.01   3.65   \n",
      "wtms6j_wtms7j  wtms6j_wtms7j  1952.0   5.127022  0.896871   3.01   4.68   \n",
      "...                      ...     ...        ...       ...    ...    ...   \n",
      "wtmkpr_wtm6cw  wtmkpr_wtm6cw     1.0  44.300000       NaN  44.30  44.30   \n",
      "wtmkpr_wtm6fn  wtmkpr_wtm6fn     1.0  40.670000       NaN  40.67  40.67   \n",
      "wtmkpr_wtm712  wtmkpr_wtm712     1.0  45.370000       NaN  45.37  45.37   \n",
      "wtmdb7_wtmd89  wtmdb7_wtmd89     1.0   9.100000       NaN   9.10   9.10   \n",
      "wttju4_wtmkq2  wttju4_wtmkq2     1.0  21.300000       NaN  21.30  21.30   \n",
      "\n",
      "                  50%     75%    max  upper_thresh  \n",
      "wtmscx_wtmt15   3.945   4.340   8.80        5.4500  \n",
      "wtms7j_wtmse9   3.630   4.190  22.50        5.3150  \n",
      "wtm7xp_wtm7zc   4.180   4.610  11.50        5.8250  \n",
      "wtmk68_wtmk72   4.200   4.565  71.20        5.9375  \n",
      "wtms6j_wtms7j   5.025   5.400  22.00        6.4800  \n",
      "...               ...     ...    ...           ...  \n",
      "wtmkpr_wtm6cw  44.300  44.300  44.30       44.3000  \n",
      "wtmkpr_wtm6fn  40.670  40.670  40.67       40.6700  \n",
      "wtmkpr_wtm712  45.370  45.370  45.37       45.3700  \n",
      "wtmdb7_wtmd89   9.100   9.100   9.10        9.1000  \n",
      "wttju4_wtmkq2  21.300  21.300  21.30       21.3000  \n",
      "\n",
      "[563063 rows x 10 columns]\n"
     ]
    }
   ],
   "metadata": {}
  },
  {
   "cell_type": "code",
   "execution_count": 26,
   "source": [
    "data['status'] = \"\"\r\n",
    "data['count'] = \"\"\r\n",
    "data['std'] = \"\"\r\n",
    "data['min'] = \"\"\r\n",
    "data['25%'] = \"\"\r\n",
    "data['50%'] = \"\"\r\n",
    "data['75%'] = \"\"\r\n",
    "data['max'] = \"\"\r\n",
    "data['upper_thresh'] = \"\"\r\n",
    "\r\n",
    "# 到坐标对中去找自己对于的坐标对情况\r\n",
    "for i, r in data.iterrows():\r\n",
    "    # 出发点geohash                                      wtmkr6\r\n",
    "    # 到达点geohash                                      wtmk72\r\n",
    "\r\n",
    "    # 生成坐标对名\r\n",
    "    dict_name = f\"{r['出发点geohash']}_{r['到达点geohash']}\"\r\n",
    "    find_flag = False\r\n",
    "\r\n",
    "    # 找坐标对\r\n",
    "    if dict_name in list(all_pairs_dict.keys()):\r\n",
    "        find_flag = True\r\n",
    "    else:\r\n",
    "        # 调一下顺序看看呢\r\n",
    "        dict_name = f\"{r['到达点geohash']}_{r['出发点geohash']}\"\r\n",
    "        if dict_name in list(all_pairs_dict.keys()):\r\n",
    "            find_flag = True\r\n",
    "        else:\r\n",
    "            # 真的找不到\r\n",
    "            print(dict_name,\"fail\")\r\n",
    "\r\n",
    "    # 如果找到了，就赋进去\r\n",
    "    if find_flag == True:\r\n",
    "        cur_dist = r['行驶里程']\r\n",
    "        cur_pair = all_pairs_dict[dict_name]\r\n",
    "        cur_status = \"\"\r\n",
    "\r\n",
    "        # 区间描述\r\n",
    "        if cur_pair[\"min\"] <= cur_dist and cur_dist <= cur_pair[\"25%\"]:\r\n",
    "            cur_status = \"min-25%\"\r\n",
    "        elif cur_dist <= cur_pair[\"50%\"]:\r\n",
    "            cur_status = \"25-50%\"\r\n",
    "        elif cur_dist <= cur_pair[\"75%\"]:\r\n",
    "            cur_status = \"50-75%\"\r\n",
    "        else:\r\n",
    "            cur_status = \"75-max\"\r\n",
    "            \r\n",
    "        # 是否超过阈值\r\n",
    "        if cur_dist > cur_pair['upper_thresh']:\r\n",
    "            cur_status += \" 超出风险阈值\"\r\n",
    "        else:\r\n",
    "            cur_status += \" 未超出\"\r\n",
    "\r\n",
    "        data.loc[i, ('status')] = cur_status    \r\n",
    "        data.loc[i, ('count')] = cur_pair[\"count\"]    \r\n",
    "        data.loc[i, ('std')] = cur_pair[\"std\"]    \r\n",
    "        data.loc[i, ('min')] = cur_pair[\"min\"]    \r\n",
    "        data.loc[i, ('25%')] = cur_pair[\"25%\"]    \r\n",
    "        data.loc[i, ('50%')] = cur_pair[\"50%\"]    \r\n",
    "        data.loc[i, ('75%')] = cur_pair[\"75%\"]    \r\n",
    "        data.loc[i, ('max')] = cur_pair[\"max\"] \r\n",
    "        data.loc[i, ('upper_thresh')] = cur_pair[\"upper_thresh\"] \r\n",
    "    else:\r\n",
    "        pass"
   ],
   "outputs": [
    {
     "output_type": "stream",
     "name": "stdout",
     "text": [
      "wtmkqc_wtmk73 fail\n",
      "wtmetp_wtmk73 fail\n",
      "wtmker_wtmeun fail\n",
      "wthzds_wtmeux fail\n",
      "wtmkdv_wtmeun fail\n",
      "wtmkmr_wtmeun fail\n",
      "wtmefh_wtmkmc fail\n",
      "wtmk4p_wtmeun fail\n",
      "wtmefh_wtmk5r fail\n",
      "wtm7kw_wtmk76 fail\n",
      "wtmhpj_wtmeux fail\n",
      "wtmeun_wtm7ks fail\n",
      "wtmk51_wtmeun fail\n",
      "wtmeux_wtmkj7 fail\n",
      "wtm75c_wtmkjx fail\n",
      "wtmegr_wtmk72 fail\n",
      "wtmkjm_wtmeun fail\n",
      "wtm7tv_wtmeun fail\n",
      "wtmeux_wtmkhj fail\n",
      "wtmefr_wtmefw fail\n",
      "wtmk7d_wtmefh fail\n",
      "wtm7ks_wtmeun fail\n",
      "wtmkjy_wtmk74 fail\n",
      "wtmkqz_wtmeun fail\n",
      "wtmkj7_wtmeux fail\n",
      "wtm7ty_wtmk4z fail\n",
      "wtmkjx_wtmefh fail\n",
      "wtmkhj_wtmeux fail\n",
      "wtnp8w_wtmeux fail\n",
      "s00000_s00000 fail\n"
     ]
    }
   ],
   "metadata": {}
  },
  {
   "cell_type": "code",
   "execution_count": 29,
   "source": [
    "data.to_excel(r\"C:\\Users\\zhengqiushi\\Desktop\\hik\\21-09-01\\data\\ZAF75566_status.xlsx\")"
   ],
   "outputs": [],
   "metadata": {}
  }
 ],
 "metadata": {
  "orig_nbformat": 4,
  "language_info": {
   "name": "python",
   "version": "3.9.6",
   "mimetype": "text/x-python",
   "codemirror_mode": {
    "name": "ipython",
    "version": 3
   },
   "pygments_lexer": "ipython3",
   "nbconvert_exporter": "python",
   "file_extension": ".py"
  },
  "kernelspec": {
   "name": "python3",
   "display_name": "Python 3.9.6 64-bit"
  },
  "interpreter": {
   "hash": "8e118ca72c34c5c5aa24d76c6e51e2fd1bf1dc26fbc6eb00cec6390678d4abe2"
  }
 },
 "nbformat": 4,
 "nbformat_minor": 2
}