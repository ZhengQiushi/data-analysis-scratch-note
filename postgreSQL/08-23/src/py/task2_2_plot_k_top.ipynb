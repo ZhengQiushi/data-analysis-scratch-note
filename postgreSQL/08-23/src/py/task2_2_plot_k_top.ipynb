{
 "cells": [
  {
   "cell_type": "code",
   "execution_count": 1,
   "source": [
    "'''\r\n",
    "具体分析某坐标对之间的topk路线，直接画到图上\r\n",
    "'''\r\n",
    "\r\n",
    "import pandas as pd\r\n",
    "\r\n",
    "all_pairs_dist = pd.read_csv(\"C:\\\\Users\\\\zhengqiushi\\\\Desktop\\\\hik\\\\21-08-23\\\\data\\\\all_pairs_with_dist.csv\")\r\n",
    "all_pairs_dist_ = all_pairs_dist.T"
   ],
   "outputs": [],
   "metadata": {}
  },
  {
   "cell_type": "code",
   "execution_count": 2,
   "source": [
    "import geohash\r\n",
    "from haversine import haversine \r\n",
    "import hmap_new_router\r\n",
    "\r\n",
    "def cal_dist_with_geohash(cur_name): \r\n",
    "    '''\r\n",
    "    @params cur_name [('wtms65', 'wtms6j')]\r\n",
    "    '''\r\n",
    "    # 根据起始结束的geohash 算实际距离\r\n",
    "    \r\n",
    "    src_pos_area = geohash.decode(cur_name[0])\r\n",
    "    src_pos_area = [src_pos_area[1], src_pos_area[0]]\r\n",
    "\r\n",
    "    dst_pos_area = geohash.decode(cur_name[1])\r\n",
    "    dst_pos_area = [dst_pos_area[1], dst_pos_area[0]]\r\n",
    "\r\n",
    "    real_dist_center = haversine(src_pos_area, dst_pos_area)\r\n",
    "\r\n",
    "    ret_router, ret_dist = hmap_new_router.Hmap_new_ret_route_pack(src_pos_area, dst_pos_area) # color_router = all_colors[i], \r\n",
    "    return ret_dist"
   ],
   "outputs": [
    {
     "output_type": "stream",
     "name": "stdout",
     "text": [
      "4.395675219207577 []\n"
     ]
    }
   ],
   "metadata": {}
  },
  {
   "cell_type": "code",
   "execution_count": 3,
   "source": [
    "all_pairs_dist_describe = pd.read_csv(\"C:\\\\Users\\\\zhengqiushi\\\\Desktop\\\\hik\\\\21-08-23\\\\data\\\\all_pairs_with_dist_describe.csv\")\r\n",
    "all_pairs_dist_describe_ = all_pairs_dist_describe.T"
   ],
   "outputs": [],
   "metadata": {}
  },
  {
   "cell_type": "code",
   "execution_count": 5,
   "source": [
    "print(all_pairs_dist_describe_)"
   ],
   "outputs": [
    {
     "output_type": "stream",
     "name": "stdout",
     "text": [
      "                           0          1         2      3      4      5      6  \\\n",
      "Unnamed: 0             count       mean       std    min    25%    50%    75%   \n",
      "('wtmt15', 'wtmscx')  2400.0   4.073942  0.668451   3.03    3.6  3.945   4.34   \n",
      "('wtms7j', 'wtmse9')  2213.0   3.875308  0.797457   3.01   3.44   3.63   4.19   \n",
      "('wtm7xp', 'wtm7zc')  2171.0   4.269314  0.680579   3.04    3.8   4.18   4.61   \n",
      "('wtmk68', 'wtmk72')  2023.0   4.241725  1.718908   3.01   3.65    4.2  4.565   \n",
      "...                      ...        ...       ...    ...    ...    ...    ...   \n",
      "('wtmk11', 'wtmk69')    11.0      10.43  1.219803   7.64  10.06  10.21  11.05   \n",
      "('wtms6j', 'wtmsgb')    11.0  13.045455  0.385652   12.0   13.1   13.1   13.2   \n",
      "('wtme82', 'wtmkr6')    11.0  19.558182  0.844202  18.02   19.4  19.44  19.58   \n",
      "('wtm7kz', 'wtm7w7')    11.0   8.513636  0.705539   6.99  8.305    8.6    8.7   \n",
      "('wtme8e', 'wtme84')    11.0   3.960909  0.787064    3.1   3.39    4.0   4.15   \n",
      "\n",
      "                          7  \n",
      "Unnamed: 0              max  \n",
      "('wtmt15', 'wtmscx')    8.8  \n",
      "('wtms7j', 'wtmse9')   22.5  \n",
      "('wtm7xp', 'wtm7zc')   11.5  \n",
      "('wtmk68', 'wtmk72')   71.2  \n",
      "...                     ...  \n",
      "('wtmk11', 'wtmk69')  12.32  \n",
      "('wtms6j', 'wtmsgb')   13.5  \n",
      "('wtme82', 'wtmkr6')   21.6  \n",
      "('wtm7kz', 'wtm7w7')   9.86  \n",
      "('wtme8e', 'wtme84')   5.79  \n",
      "\n",
      "[63311 rows x 8 columns]\n"
     ]
    }
   ],
   "metadata": {}
  },
  {
   "cell_type": "code",
   "execution_count": 41,
   "source": [
    "# 重命名\r\n",
    "all_pairs_dist_describe_.rename(columns={0:'count', 1:'mean', 2:'std', 3: 'min', 4:'25%', 5:'50%', 6:'75%', 7:\"max\"}, inplace = True)\r\n",
    "print(all_pairs_dist_describe_)"
   ],
   "outputs": [
    {
     "output_type": "stream",
     "name": "stdout",
     "text": [
      "                       count  mean       std    min    25%    50%    75%  \\\n",
      "('wtmt15', 'wtmscx')  2400.0     4  0.668451   3.03    3.6  3.945   4.34   \n",
      "('wtms7j', 'wtmse9')  2213.0     3  0.797457   3.01   3.44   3.63   4.19   \n",
      "('wtm7xp', 'wtm7zc')  2171.0     4  0.680579   3.04    3.8   4.18   4.61   \n",
      "('wtmk68', 'wtmk72')  2023.0     4  1.718908   3.01   3.65    4.2  4.565   \n",
      "('wtms6j', 'wtms7j')  1952.0     5  0.896871   3.01   4.68  5.025    5.4   \n",
      "...                      ...   ...       ...    ...    ...    ...    ...   \n",
      "('wtmk11', 'wtmk69')    11.0    10  1.219803   7.64  10.06  10.21  11.05   \n",
      "('wtms6j', 'wtmsgb')    11.0    13  0.385652   12.0   13.1   13.1   13.2   \n",
      "('wtme82', 'wtmkr6')    11.0    19  0.844202  18.02   19.4  19.44  19.58   \n",
      "('wtm7kz', 'wtm7w7')    11.0     8  0.705539   6.99  8.305    8.6    8.7   \n",
      "('wtme8e', 'wtme84')    11.0     3  0.787064    3.1   3.39    4.0   4.15   \n",
      "\n",
      "                        max  hmap_dist  \n",
      "('wtmt15', 'wtmscx')    8.8     -0.001  \n",
      "('wtms7j', 'wtmse9')   22.5     -0.001  \n",
      "('wtm7xp', 'wtm7zc')   11.5     -0.001  \n",
      "('wtmk68', 'wtmk72')   71.2     -0.001  \n",
      "('wtms6j', 'wtms7j')   22.0     -0.001  \n",
      "...                     ...        ...  \n",
      "('wtmk11', 'wtmk69')  12.32     -0.001  \n",
      "('wtms6j', 'wtmsgb')   13.5     -0.001  \n",
      "('wtme82', 'wtmkr6')   21.6     -0.001  \n",
      "('wtm7kz', 'wtm7w7')   9.86     -0.001  \n",
      "('wtme8e', 'wtme84')   5.79     -0.001  \n",
      "\n",
      "[63310 rows x 9 columns]\n"
     ]
    }
   ],
   "metadata": {}
  },
  {
   "cell_type": "code",
   "execution_count": 42,
   "source": [
    "all_pairs_dist_describe_['mean'] = all_pairs_dist_describe_['mean'].astype(int) # all_pairs_dist_describe_['mean'] = all_pairs_dist_describe_['mean'].map(int)"
   ],
   "outputs": [],
   "metadata": {}
  },
  {
   "cell_type": "code",
   "execution_count": 45,
   "source": [
    "# 筛选里程在upper与lower的top_k条\r\n",
    "def select_mile_range(upper, lower, top_k):\r\n",
    "    tmp = all_pairs_dist_describe_[((all_pairs_dist_describe_[\"mean\"]) > upper) & ((all_pairs_dist_describe_[\"mean\"]) < lower)]\r\n",
    "    return tmp.iloc[0: top_k, :]"
   ],
   "outputs": [
    {
     "output_type": "stream",
     "name": "stdout",
     "text": [
      "                       count  mean       std   min   25%    50%    75%   max  \\\n",
      "('wtmt15', 'wtmscx')  2400.0     4  0.668451  3.03   3.6  3.945   4.34   8.8   \n",
      "('wtm7xp', 'wtm7zc')  2171.0     4  0.680579  3.04   3.8   4.18   4.61  11.5   \n",
      "('wtmk68', 'wtmk72')  2023.0     4  1.718908  3.01  3.65    4.2  4.565  71.2   \n",
      "('wtms6j', 'wtms7j')  1952.0     5  0.896871  3.01  4.68  5.025    5.4  22.0   \n",
      "('wtm7xp', 'wtme8p')  1914.0     5   1.34363  3.71   4.8   5.29    5.9  50.4   \n",
      "\n",
      "                      hmap_dist  \n",
      "('wtmt15', 'wtmscx')     -0.001  \n",
      "('wtm7xp', 'wtm7zc')     -0.001  \n",
      "('wtmk68', 'wtmk72')     -0.001  \n",
      "('wtms6j', 'wtms7j')     -0.001  \n",
      "('wtm7xp', 'wtme8p')     -0.001  \n"
     ]
    }
   ],
   "metadata": {}
  },
  {
   "cell_type": "code",
   "execution_count": 234,
   "source": [
    "def draw_certain_route(cur_name, num, my_map_compare_): \r\n",
    "    '''\r\n",
    "    @brief 画路线\r\n",
    "    @params cur_name [('wtms65', 'wtms6j')]\r\n",
    "    @params num \r\n",
    "    @params my_map_compare_ 我的画图类\r\n",
    "    '''\r\n",
    "\r\n",
    "    def randomcolor():\r\n",
    "        '''\r\n",
    "        @brief 获取随机颜色\r\n",
    "        '''\r\n",
    "        colorArr = ['1','2','3','4','5','6','7','8','9','A','B','C','D','E','F']\r\n",
    "        color = \"\"\r\n",
    "        for i in range(6):\r\n",
    "            color += colorArr[random.randint(0,14)]\r\n",
    "        return \"#\"+color\r\n",
    "\r\n",
    "    start_color = randomcolor()\r\n",
    "\r\n",
    "    src_pos_area = geohash.decode(cur_name[0])\r\n",
    "    src_pos_area = [src_pos_area[1], src_pos_area[0]]\r\n",
    "\r\n",
    "    dst_pos_area = geohash.decode(cur_name[1])\r\n",
    "    dst_pos_area = [dst_pos_area[1], dst_pos_area[0]]\r\n",
    "\r\n",
    "    # 画geohash的矩形区域\r\n",
    "    my_map_compare_.draw_geohash(cur_name[0], color=start_color)\r\n",
    "    my_map_compare_.draw_geohash(cur_name[1], color=start_color)\r\n",
    "    # 得到路线\r\n",
    "    ret_router, ret_dist = hmap_new_router.Hmap_new_ret_route_pack(src_pos_area, dst_pos_area, False) # color_router = all_colors[i], \r\n",
    "    if ret_dist < 0:\r\n",
    "        return\r\n",
    "    # 画路线\r\n",
    "    my_map_compare_.draw_route(src_pos_area, dst_pos_area, ret_router, color_router = start_color, start_tip = cur_name[0] + \"_start\", end_tip = cur_name[1] + \"_end\", router_tip = \"num: \" + str(num) + \" pos: (\" + cur_name[0] + \", \" + cur_name[1] + \" )\")"
   ],
   "outputs": [],
   "metadata": {}
  },
  {
   "cell_type": "code",
   "execution_count": 237,
   "source": [
    "import random\r\n",
    "from constrast_between import my_map_compare\r\n",
    "\r\n",
    "# 初始化我的地图画布\r\n",
    "my_map_compare_ = my_map_compare([120.333, 30.333], [120.333, 30.333])\r\n",
    "# 筛出需要的里程范围内的top_k\r\n",
    "res_ = select_mile_range(3, 6, 5) # 3-6km中的top 5\r\n",
    "\r\n",
    "for i, r in res_.iterrows():\r\n",
    "    # 画top k\r\n",
    "    draw_certain_route((i.split(\"'\")[1], i.split(\"'\")[3]), r['count'], my_map_compare_)\r\n",
    "    \r\n",
    "my_map_compare_.save_(\"router_mile_70-75\")"
   ],
   "outputs": [
    {
     "output_type": "stream",
     "name": "stdout",
     "text": [
      "<class 'pandas.core.frame.DataFrame'>\n",
      "('wtmt15', 'wtmscx')\n",
      "[120.2838134765625, 30.42938232421875] [120.3057861328125, 30.40740966796875]\n",
      "('wtm7xp', 'wtm7zc')\n",
      "[120.1959228515625, 30.18768310546875] [120.2288818359375, 30.19866943359375]\n",
      "('wtmk68', 'wtmk72')\n",
      "[119.9981689453125, 30.28106689453125] [120.0311279296875, 30.28106689453125]\n",
      "('wtms6j', 'wtms7j')\n",
      "[120.3277587890625, 30.30853271484375] [120.3717041015625, 30.30853271484375]\n",
      "('wtm7xp', 'wtme8p')\n",
      "[120.1959228515625, 30.18768310546875] [120.2398681640625, 30.18768310546875]\n"
     ]
    }
   ],
   "metadata": {}
  },
  {
   "cell_type": "code",
   "execution_count": 238,
   "source": [
    "\r\n",
    "def draw_box(res_, thresh = 100):\r\n",
    "    '''\r\n",
    "    @brief 画topk的里程箱线图\r\n",
    "    @params res_ \r\n",
    "    '''\r\n",
    "    all_router = pd.DataFrame()\r\n",
    "    \r\n",
    "    for i, r in res_.iterrows():\r\n",
    "        new_row = all_pairs_dist[all_pairs_dist['Unnamed: 0'] == i].drop(['cnt'], axis = 1)\r\n",
    "        all_router = pd.concat([all_router, new_row])\r\n",
    "        # print(new_row)\r\n",
    "        # break\r\n",
    "\r\n",
    "\r\n",
    "    from matplotlib.font_manager import FontProperties \r\n",
    "    from matplotlib import pyplot as plt\r\n",
    "    import numpy as np\r\n",
    "    font = FontProperties(fname=r\"C:\\\\Windows\\\\Fonts\\\\simsun.ttc\", size=15) \r\n",
    "\r\n",
    "    plt.figure(figsize=(32,5))\r\n",
    "    # 解决标注乱码的问题\r\n",
    "    res_T = all_router.T\r\n",
    "\r\n",
    "    res_index = res_T.iloc[0, :].index\r\n",
    "    res_name = res_T.iloc[0, :].values\r\n",
    "    # 给下标重命名\r\n",
    "    for i in range(0, len(res_name)) :\r\n",
    "        res_T.rename(columns={res_index[i]: res_name[i]}, inplace = True)   \r\n",
    "    res_T = res_T.drop(res_T.index[0])\r\n",
    "    # 筛除一些异常值\r\n",
    "    res_T = res_T[res_T < thresh]\r\n",
    "\r\n",
    "    ax = res_T.plot.box(rot='90')\r\n",
    "    for label in ax.get_xticklabels() : \r\n",
    "        label.set_fontproperties(font)\r\n",
    "\r\n",
    "draw_box(res_, 100)"
   ],
   "outputs": [
    {
     "output_type": "display_data",
     "data": {
      "text/plain": [
       "<Figure size 2304x360 with 0 Axes>"
      ]
     },
     "metadata": {}
    },
    {
     "output_type": "display_data",
     "data": {
      "image/png": "[encoded data removed]",
      "image/svg+xml": "<?xml version=\"1.0\" encoding=\"utf-8\" standalone=\"no\"?>\r\n<!DOCTYPE svg PUBLIC \"-//W3C//DTD SVG 1.1//EN\"\r\n  \"http://www.w3.org/Graphics/SVG/1.1/DTD/svg11.dtd\">\r\n<svg height=\"388.84pt\" version=\"1.1\" viewBox=\"0 0 368.925 388.84\" width=\"368.925pt\" xmlns=\"http://www.w3.org/2000/svg\" xmlns:xlink=\"http://www.w3.org/1999/xlink\">\r\n <metadata>\r\n  <rdf:RDF xmlns:cc=\"http://creativecommons.org/ns#\" xmlns:dc=\"http://purl.org/dc/elements/1.1/\" xmlns:rdf=\"http://www.w3.org/1999/02/22-rdf-syntax-ns#\">\r\n   <cc:Work>\r\n    <dc:type rdf:resource=\"http://purl.org/dc/dcmitype/StillImage\"/>\r\n    <dc:date>2021-09-01T15:45:55.671472</dc:date>\r\n    <dc:format>image/svg+xml</dc:format>\r\n    <dc:creator>\r\n     <cc:Agent>\r\n      <dc:title>Matplotlib v3.4.3, https://matplotlib.org/</dc:title>\r\n     </cc:Agent>\r\n    </dc:creator>\r\n   </cc:Work>\r\n  </rdf:RDF>\r\n </metadata>\r\n <defs>\r\n  <style type=\"text/css\">*{stroke-linecap:butt;stroke-linejoin:round;}</style>\r\n </defs>\r\n <g id=\"figure_1\">\r\n  <g id=\"patch_1\">\r\n   <path d=\"M -0 388.84 \r\nL 368.925 388.84 \r\nL 368.925 0 \r\nL -0 0 \r\nz\r\n\" style=\"fill:none;\"/>\r\n  </g>\r\n  <g id=\"axes_1\">\r\n   <g id=\"patch_2\">\r\n    <path d=\"M 26.925 224.64 \r\nL 361.725 224.64 \r\nL 361.725 7.2 \r\nL 26.925 7.2 \r\nz\r\n\" style=\"fill:#ffffff;\"/>\r\n   </g>\r\n   <g id=\"matplotlib.axis_1\">\r\n    <g id=\"xtick_1\">\r\n     <g id=\"line2d_1\">\r\n      <defs>\r\n       <path d=\"M 0 0 \r\nL 0 3.5 \r\n\" id=\"m24e0605d78\" style=\"stroke:#000000;stroke-width:0.8;\"/>\r\n      </defs>\r\n      <g>\r\n       <use style=\"stroke:#000000;stroke-width:0.8;\" x=\"60.405\" xlink:href=\"#m24e0605d78\" y=\"224.64\"/>\r\n      </g>\r\n     </g>\r\n     <g id=\"text_1\">\r\n      <!-- ('wtmt15', 'wtmscx') -->\r\n      <g transform=\"translate(65.385469 381.64)rotate(-90)scale(0.15 -0.15)\">\r\n       <defs>\r\n        <path d=\"M 2900 5025 \r\nQ 2325 4425 2037 3737 \r\nQ 1750 3050 1750 2300 \r\nQ 1750 1525 2037 850 \r\nQ 2325 175 2900 -425 \r\nL 2775 -550 \r\nQ 2075 75 1725 787 \r\nQ 1375 1500 1375 2300 \r\nQ 1375 3075 1725 3787 \r\nQ 2075 4500 2775 5150 \r\nL 2900 5025 \r\nz\r\n\" id=\"SimSun-28\" transform=\"scale(0.015625)\"/>\r\n        <path d=\"M 450 4825 \r\nQ 450 4925 537 5025 \r\nQ 625 5125 800 5125 \r\nQ 1000 5125 1112 4962 \r\nQ 1225 4800 1225 4625 \r\nQ 1225 4275 1025 3975 \r\nQ 825 3675 450 3525 \r\nL 350 3650 \r\nQ 600 3800 725 3962 \r\nQ 850 4125 850 4300 \r\nQ 850 4425 650 4525 \r\nQ 450 4625 450 4825 \r\nz\r\n\" id=\"SimSun-27\" transform=\"scale(0.015625)\"/>\r\n        <path d=\"M 2325 2900 \r\nL 3175 2900 \r\nL 3175 2750 \r\nL 3075 2750 \r\nQ 2975 2750 2900 2675 \r\nQ 2825 2600 2775 2425 \r\nL 2175 75 \r\nL 2025 75 \r\nL 1575 1975 \r\nL 1100 75 \r\nL 950 75 \r\nL 375 2375 \r\nQ 350 2550 275 2650 \r\nQ 200 2750 125 2750 \r\nL 25 2750 \r\nL 25 2900 \r\nL 925 2900 \r\nL 925 2750 \r\nL 825 2750 \r\nQ 725 2750 700 2662 \r\nQ 675 2575 700 2425 \r\nL 1075 800 \r\nL 1125 800 \r\nL 1500 2300 \r\nQ 1475 2525 1400 2637 \r\nQ 1325 2750 1225 2750 \r\nL 1150 2750 \r\nL 1150 2900 \r\nL 2000 2900 \r\nL 2000 2750 \r\nL 1925 2750 \r\nQ 1825 2750 1800 2662 \r\nQ 1775 2575 1800 2425 \r\nL 2175 800 \r\nL 2200 800 \r\nL 2625 2550 \r\nQ 2650 2650 2600 2700 \r\nQ 2550 2750 2450 2750 \r\nL 2325 2750 \r\nL 2325 2900 \r\nz\r\nM 1725 2750 \r\nL 1725 2750 \r\nz\r\nM 625 2750 \r\nL 625 2750 \r\nz\r\nM 275 2750 \r\nL 275 2750 \r\nz\r\nM 2875 2750 \r\nL 2875 2750 \r\nz\r\nM 2675 2750 \r\nL 2675 2750 \r\nz\r\n\" id=\"SimSun-77\" transform=\"scale(0.015625)\"/>\r\n        <path d=\"M 1500 900 \r\nQ 1500 550 1625 425 \r\nQ 1750 300 2000 300 \r\nQ 2250 300 2400 462 \r\nQ 2550 625 2600 925 \r\nL 2725 875 \r\nQ 2675 525 2462 300 \r\nQ 2250 75 1900 75 \r\nQ 1525 75 1337 300 \r\nQ 1150 525 1150 1000 \r\nL 1150 2750 \r\nL 400 2750 \r\nL 400 2900 \r\nL 600 2900 \r\nQ 900 2900 1087 3087 \r\nQ 1275 3275 1325 3675 \r\nL 1350 3875 \r\nL 1500 3875 \r\nL 1500 2900 \r\nL 2500 2900 \r\nL 2500 2750 \r\nL 1500 2750 \r\nL 1500 900 \r\nz\r\n\" id=\"SimSun-74\" transform=\"scale(0.015625)\"/>\r\n        <path d=\"M 175 2900 \r\nQ 300 2900 425 2925 \r\nQ 550 2950 625 3000 \r\nL 675 3000 \r\nL 675 2575 \r\nQ 800 2775 950 2862 \r\nQ 1100 2950 1275 2950 \r\nQ 1500 2950 1625 2862 \r\nQ 1750 2775 1775 2575 \r\nQ 1900 2775 2062 2862 \r\nQ 2225 2950 2400 2950 \r\nQ 2700 2950 2812 2775 \r\nQ 2925 2600 2925 2325 \r\nL 2925 425 \r\nQ 2925 325 2975 287 \r\nQ 3025 250 3125 250 \r\nL 3175 250 \r\nL 3175 100 \r\nL 2325 100 \r\nL 2325 250 \r\nL 2375 250 \r\nQ 2475 250 2525 287 \r\nQ 2575 325 2575 425 \r\nL 2575 2300 \r\nQ 2575 2575 2512 2662 \r\nQ 2450 2750 2325 2750 \r\nQ 2150 2750 2012 2625 \r\nQ 1875 2500 1800 2275 \r\nL 1800 425 \r\nQ 1800 325 1850 287 \r\nQ 1900 250 2000 250 \r\nL 2050 250 \r\nL 2050 100 \r\nL 1200 100 \r\nL 1200 250 \r\nL 1250 250 \r\nQ 1350 250 1400 287 \r\nQ 1450 325 1450 425 \r\nL 1450 2300 \r\nQ 1450 2525 1400 2637 \r\nQ 1350 2750 1200 2750 \r\nQ 1025 2750 887 2625 \r\nQ 750 2500 675 2250 \r\nL 675 425 \r\nQ 675 325 725 287 \r\nQ 775 250 875 250 \r\nL 925 250 \r\nL 925 100 \r\nL 75 100 \r\nL 75 250 \r\nL 125 250 \r\nQ 225 250 275 287 \r\nQ 325 325 325 425 \r\nL 325 2600 \r\nQ 325 2675 300 2712 \r\nQ 275 2750 200 2750 \r\nL 100 2750 \r\nL 100 2900 \r\nL 175 2900 \r\nz\r\n\" id=\"SimSun-6d\" transform=\"scale(0.015625)\"/>\r\n        <path d=\"M 1825 4450 \r\nL 1825 650 \r\nQ 1825 450 1950 350 \r\nQ 2075 250 2300 250 \r\nL 2550 250 \r\nL 2550 100 \r\nL 725 100 \r\nL 725 250 \r\nL 950 250 \r\nQ 1200 250 1312 350 \r\nQ 1425 450 1425 650 \r\nL 1425 3675 \r\nQ 1425 3775 1362 3837 \r\nQ 1300 3900 1175 3900 \r\nL 725 3900 \r\nL 725 4050 \r\nL 950 4050 \r\nQ 1250 4050 1437 4150 \r\nQ 1625 4250 1725 4450 \r\nL 1825 4450 \r\nz\r\n\" id=\"SimSun-31\" transform=\"scale(0.015625)\"/>\r\n        <path d=\"M 1725 2850 \r\nQ 2200 2850 2500 2487 \r\nQ 2800 2125 2800 1525 \r\nQ 2800 850 2487 450 \r\nQ 2175 50 1525 50 \r\nQ 1075 50 725 312 \r\nQ 375 575 375 950 \r\nQ 375 1100 462 1212 \r\nQ 550 1325 700 1325 \r\nQ 850 1325 900 1225 \r\nQ 950 1125 950 1050 \r\nQ 950 900 875 825 \r\nQ 800 725 800 625 \r\nQ 800 425 1037 325 \r\nQ 1275 225 1550 225 \r\nQ 1950 225 2162 550 \r\nQ 2375 875 2375 1475 \r\nQ 2375 1975 2187 2287 \r\nQ 2000 2600 1625 2600 \r\nQ 1350 2600 1150 2500 \r\nQ 950 2400 775 2075 \r\nL 550 2100 \r\nL 675 4375 \r\nL 2725 4375 \r\nL 2650 4000 \r\nL 850 4000 \r\nL 750 2350 \r\nQ 1000 2700 1237 2775 \r\nQ 1475 2850 1725 2850 \r\nz\r\n\" id=\"SimSun-35\" transform=\"scale(0.015625)\"/>\r\n        <path d=\"M 450 550 \r\nQ 450 650 537 750 \r\nQ 625 850 800 850 \r\nQ 1000 850 1112 687 \r\nQ 1225 525 1225 350 \r\nQ 1225 0 1025 -300 \r\nQ 825 -600 450 -750 \r\nL 350 -625 \r\nQ 600 -475 725 -312 \r\nQ 850 -150 850 25 \r\nQ 850 150 650 250 \r\nQ 450 350 450 550 \r\nz\r\n\" id=\"SimSun-2c\" transform=\"scale(0.015625)\"/>\r\n        <path d=\"M 0 0 \r\nQ 0 0 0 0 \r\nz\r\n\" id=\"SimSun-20\" transform=\"scale(0.015625)\"/>\r\n        <path d=\"M 625 2175 \r\nQ 625 2550 912 2750 \r\nQ 1200 2950 1600 2950 \r\nQ 1825 2950 2025 2900 \r\nQ 2225 2825 2300 2825 \r\nQ 2375 2825 2425 2850 \r\nQ 2475 2875 2550 2950 \r\nL 2650 2125 \r\nL 2500 2100 \r\nQ 2400 2425 2162 2612 \r\nQ 1925 2800 1625 2800 \r\nQ 1300 2800 1112 2675 \r\nQ 925 2550 925 2325 \r\nQ 925 2125 1012 2012 \r\nQ 1100 1900 1325 1850 \r\nQ 1500 1775 1775 1700 \r\nQ 2025 1600 2250 1500 \r\nQ 2450 1400 2587 1237 \r\nQ 2725 1075 2725 875 \r\nQ 2725 500 2462 287 \r\nQ 2200 75 1700 75 \r\nQ 1375 75 1225 150 \r\nQ 1050 200 950 200 \r\nQ 875 200 787 162 \r\nQ 700 125 600 75 \r\nL 525 1000 \r\nL 675 1025 \r\nQ 750 625 1000 425 \r\nQ 1250 225 1700 225 \r\nQ 2050 225 2237 350 \r\nQ 2425 475 2425 725 \r\nQ 2425 900 2325 1012 \r\nQ 2225 1125 2125 1175 \r\nQ 1875 1275 1575 1400 \r\nQ 1275 1500 1050 1600 \r\nQ 825 1700 725 1850 \r\nQ 625 2000 625 2175 \r\nz\r\n\" id=\"SimSun-73\" transform=\"scale(0.015625)\"/>\r\n        <path d=\"M 2150 2225 \r\nQ 2150 2300 2175 2325 \r\nQ 2175 2350 2200 2425 \r\nQ 2225 2525 2100 2662 \r\nQ 1975 2800 1675 2800 \r\nQ 1300 2800 1037 2437 \r\nQ 775 2075 775 1475 \r\nQ 775 925 1000 587 \r\nQ 1225 250 1750 250 \r\nQ 2100 250 2337 475 \r\nQ 2575 700 2675 1000 \r\nL 2800 950 \r\nQ 2700 575 2425 312 \r\nQ 2150 50 1675 50 \r\nQ 1075 50 725 425 \r\nQ 375 800 375 1500 \r\nQ 375 2125 750 2537 \r\nQ 1125 2950 1725 2950 \r\nQ 2150 2950 2387 2725 \r\nQ 2625 2500 2625 2275 \r\nQ 2625 2125 2562 2062 \r\nQ 2500 2000 2375 2000 \r\nQ 2275 2000 2212 2062 \r\nQ 2150 2125 2150 2225 \r\nz\r\n\" id=\"SimSun-63\" transform=\"scale(0.015625)\"/>\r\n        <path d=\"M 1675 1825 \r\nL 2125 2500 \r\nQ 2200 2600 2187 2675 \r\nQ 2175 2750 2000 2750 \r\nL 1850 2750 \r\nL 1850 2900 \r\nL 2825 2900 \r\nL 2825 2750 \r\nL 2700 2750 \r\nQ 2650 2750 2575 2737 \r\nQ 2500 2725 2450 2650 \r\nL 1775 1650 \r\nL 2475 500 \r\nQ 2550 375 2662 312 \r\nQ 2775 250 2825 250 \r\nL 2925 250 \r\nL 2925 100 \r\nL 1825 100 \r\nL 1825 250 \r\nL 1975 250 \r\nQ 2125 250 2137 325 \r\nQ 2150 400 2100 500 \r\nL 1575 1350 \r\nL 975 475 \r\nQ 950 350 987 300 \r\nQ 1025 250 1125 250 \r\nL 1200 250 \r\nL 1200 100 \r\nL 225 100 \r\nL 225 250 \r\nL 375 250 \r\nQ 475 250 600 325 \r\nQ 725 400 800 550 \r\nL 1450 1525 \r\nL 800 2575 \r\nQ 775 2625 700 2687 \r\nQ 625 2750 500 2750 \r\nL 375 2750 \r\nL 375 2900 \r\nL 1450 2900 \r\nL 1450 2750 \r\nL 1375 2750 \r\nQ 1250 2750 1225 2675 \r\nQ 1200 2600 1250 2500 \r\nL 1675 1825 \r\nz\r\nM 600 250 \r\nL 600 250 \r\nz\r\nM 825 250 \r\nL 825 250 \r\nz\r\nM 2525 2750 \r\nL 2525 2750 \r\nz\r\nM 2300 2750 \r\nL 2300 2750 \r\nz\r\nM 2250 250 \r\nL 2250 250 \r\nz\r\nM 2625 250 \r\nL 2625 250 \r\nz\r\nM 1100 2750 \r\nL 1100 2750 \r\nz\r\nM 700 2750 \r\nL 700 2750 \r\nz\r\n\" id=\"SimSun-78\" transform=\"scale(0.015625)\"/>\r\n        <path d=\"M 275 5025 \r\nL 400 5150 \r\nQ 1100 4500 1450 3787 \r\nQ 1800 3075 1800 2300 \r\nQ 1800 1500 1450 787 \r\nQ 1100 75 400 -550 \r\nL 275 -425 \r\nQ 850 175 1137 850 \r\nQ 1425 1525 1425 2300 \r\nQ 1425 3050 1137 3737 \r\nQ 850 4425 275 5025 \r\nz\r\n\" id=\"SimSun-29\" transform=\"scale(0.015625)\"/>\r\n       </defs>\r\n       <use xlink:href=\"#SimSun-28\"/>\r\n       <use x=\"50\" xlink:href=\"#SimSun-27\"/>\r\n       <use x=\"100\" xlink:href=\"#SimSun-77\"/>\r\n       <use x=\"150\" xlink:href=\"#SimSun-74\"/>\r\n       <use x=\"200\" xlink:href=\"#SimSun-6d\"/>\r\n       <use x=\"250\" xlink:href=\"#SimSun-74\"/>\r\n       <use x=\"300\" xlink:href=\"#SimSun-31\"/>\r\n       <use x=\"350\" xlink:href=\"#SimSun-35\"/>\r\n       <use x=\"400\" xlink:href=\"#SimSun-27\"/>\r\n       <use x=\"450\" xlink:href=\"#SimSun-2c\"/>\r\n       <use x=\"500\" xlink:href=\"#SimSun-20\"/>\r\n       <use x=\"550\" xlink:href=\"#SimSun-27\"/>\r\n       <use x=\"600\" xlink:href=\"#SimSun-77\"/>\r\n       <use x=\"650\" xlink:href=\"#SimSun-74\"/>\r\n       <use x=\"700\" xlink:href=\"#SimSun-6d\"/>\r\n       <use x=\"750\" xlink:href=\"#SimSun-73\"/>\r\n       <use x=\"800\" xlink:href=\"#SimSun-63\"/>\r\n       <use x=\"850\" xlink:href=\"#SimSun-78\"/>\r\n       <use x=\"900\" xlink:href=\"#SimSun-27\"/>\r\n       <use x=\"950\" xlink:href=\"#SimSun-29\"/>\r\n      </g>\r\n     </g>\r\n    </g>\r\n    <g id=\"xtick_2\">\r\n     <g id=\"line2d_2\">\r\n      <g>\r\n       <use style=\"stroke:#000000;stroke-width:0.8;\" x=\"127.365\" xlink:href=\"#m24e0605d78\" y=\"224.64\"/>\r\n      </g>\r\n     </g>\r\n     <g id=\"text_2\">\r\n      <!-- ('wtm7xp', 'wtm7zc') -->\r\n      <g transform=\"translate(132.433359 381.64)rotate(-90)scale(0.15 -0.15)\">\r\n       <defs>\r\n        <path d=\"M 2825 4200 \r\nQ 2300 3350 1987 2537 \r\nQ 1675 1725 1675 1125 \r\nQ 1675 1025 1700 850 \r\nQ 1700 650 1700 400 \r\nQ 1700 200 1637 125 \r\nQ 1575 50 1425 50 \r\nQ 1300 50 1212 137 \r\nQ 1125 225 1125 450 \r\nQ 1125 925 1337 1625 \r\nQ 1550 2325 2475 4000 \r\nL 1225 4000 \r\nQ 950 4000 787 3825 \r\nQ 625 3650 550 3300 \r\nL 400 3325 \r\nL 575 4375 \r\nL 2825 4375 \r\nL 2825 4200 \r\nz\r\n\" id=\"SimSun-37\" transform=\"scale(0.015625)\"/>\r\n        <path d=\"M 1150 -675 \r\nL 1325 -675 \r\nL 1325 -825 \r\nL 175 -825 \r\nL 175 -675 \r\nL 325 -675 \r\nQ 450 -675 500 -625 \r\nQ 550 -575 550 -450 \r\nL 550 2500 \r\nQ 550 2600 500 2662 \r\nQ 450 2725 325 2725 \r\nL 175 2725 \r\nL 175 2875 \r\nL 400 2875 \r\nQ 525 2875 637 2900 \r\nQ 750 2925 850 3000 \r\nL 900 3000 \r\nL 900 2425 \r\nQ 1075 2675 1287 2800 \r\nQ 1500 2925 1750 2925 \r\nQ 2250 2925 2575 2587 \r\nQ 2900 2250 2900 1525 \r\nQ 2900 825 2550 450 \r\nQ 2200 75 1725 75 \r\nQ 1450 75 1262 162 \r\nQ 1075 250 900 425 \r\nL 900 -450 \r\nQ 900 -575 975 -625 \r\nQ 1050 -675 1150 -675 \r\nz\r\nM 900 750 \r\nQ 1025 500 1212 375 \r\nQ 1400 250 1650 250 \r\nQ 2000 250 2250 562 \r\nQ 2500 875 2500 1525 \r\nQ 2500 2125 2312 2425 \r\nQ 2125 2725 1750 2725 \r\nQ 1525 2725 1300 2587 \r\nQ 1075 2450 900 2150 \r\nL 900 750 \r\nz\r\n\" id=\"SimSun-70\" transform=\"scale(0.015625)\"/>\r\n        <path d=\"M 2750 1075 \r\nL 2575 100 \r\nL 425 100 \r\nL 425 225 \r\nL 2150 2750 \r\nL 1225 2750 \r\nQ 1000 2750 850 2587 \r\nQ 700 2425 600 2025 \r\nL 450 2050 \r\nL 550 2900 \r\nL 2600 2900 \r\nL 2600 2825 \r\nL 850 250 \r\nL 1800 250 \r\nQ 2125 250 2312 450 \r\nQ 2500 650 2600 1100 \r\nL 2750 1075 \r\nz\r\n\" id=\"SimSun-7a\" transform=\"scale(0.015625)\"/>\r\n       </defs>\r\n       <use xlink:href=\"#SimSun-28\"/>\r\n       <use x=\"50\" xlink:href=\"#SimSun-27\"/>\r\n       <use x=\"100\" xlink:href=\"#SimSun-77\"/>\r\n       <use x=\"150\" xlink:href=\"#SimSun-74\"/>\r\n       <use x=\"200\" xlink:href=\"#SimSun-6d\"/>\r\n       <use x=\"250\" xlink:href=\"#SimSun-37\"/>\r\n       <use x=\"300\" xlink:href=\"#SimSun-78\"/>\r\n       <use x=\"350\" xlink:href=\"#SimSun-70\"/>\r\n       <use x=\"400\" xlink:href=\"#SimSun-27\"/>\r\n       <use x=\"450\" xlink:href=\"#SimSun-2c\"/>\r\n       <use x=\"500\" xlink:href=\"#SimSun-20\"/>\r\n       <use x=\"550\" xlink:href=\"#SimSun-27\"/>\r\n       <use x=\"600\" xlink:href=\"#SimSun-77\"/>\r\n       <use x=\"650\" xlink:href=\"#SimSun-74\"/>\r\n       <use x=\"700\" xlink:href=\"#SimSun-6d\"/>\r\n       <use x=\"750\" xlink:href=\"#SimSun-37\"/>\r\n       <use x=\"800\" xlink:href=\"#SimSun-7a\"/>\r\n       <use x=\"850\" xlink:href=\"#SimSun-63\"/>\r\n       <use x=\"900\" xlink:href=\"#SimSun-27\"/>\r\n       <use x=\"950\" xlink:href=\"#SimSun-29\"/>\r\n      </g>\r\n     </g>\r\n    </g>\r\n    <g id=\"xtick_3\">\r\n     <g id=\"line2d_3\">\r\n      <g>\r\n       <use style=\"stroke:#000000;stroke-width:0.8;\" x=\"194.325\" xlink:href=\"#m24e0605d78\" y=\"224.64\"/>\r\n      </g>\r\n     </g>\r\n     <g id=\"text_3\">\r\n      <!-- ('wtmk68', 'wtmk72') -->\r\n      <g transform=\"translate(199.305469 381.64)rotate(-90)scale(0.15 -0.15)\">\r\n       <defs>\r\n        <path d=\"M 1675 1900 \r\nL 2625 425 \r\nQ 2700 325 2762 287 \r\nQ 2825 250 2900 250 \r\nL 3000 250 \r\nL 3000 100 \r\nL 1975 100 \r\nL 1975 250 \r\nL 2050 250 \r\nQ 2175 250 2225 287 \r\nQ 2275 325 2200 425 \r\nL 1425 1650 \r\nL 925 1125 \r\nL 925 450 \r\nQ 925 350 987 300 \r\nQ 1050 250 1150 250 \r\nL 1275 250 \r\nL 1275 100 \r\nL 225 100 \r\nL 225 250 \r\nL 350 250 \r\nQ 475 250 525 300 \r\nQ 575 350 575 450 \r\nL 575 4025 \r\nQ 575 4125 525 4175 \r\nQ 475 4225 350 4225 \r\nL 200 4225 \r\nL 200 4375 \r\nL 425 4375 \r\nQ 575 4375 687 4425 \r\nQ 800 4475 875 4575 \r\nL 925 4575 \r\nL 925 1400 \r\nL 1975 2525 \r\nQ 2025 2625 2012 2687 \r\nQ 2000 2750 1900 2750 \r\nL 1750 2750 \r\nL 1750 2900 \r\nL 2800 2900 \r\nL 2800 2750 \r\nL 2675 2750 \r\nQ 2600 2750 2487 2712 \r\nQ 2375 2675 2275 2575 \r\nL 1675 1900 \r\nz\r\nM 2450 2750 \r\nL 2450 2750 \r\nz\r\nM 2175 2750 \r\nL 2175 2750 \r\nz\r\nM 2300 250 \r\nL 2300 250 \r\nz\r\nM 2750 250 \r\nL 2750 250 \r\nz\r\n\" id=\"SimSun-6b\" transform=\"scale(0.015625)\"/>\r\n        <path d=\"M 775 1800 \r\nQ 775 1050 1037 637 \r\nQ 1300 225 1675 225 \r\nQ 2050 225 2250 500 \r\nQ 2450 775 2450 1525 \r\nQ 2450 2025 2237 2300 \r\nQ 2025 2575 1725 2575 \r\nQ 1450 2575 1212 2412 \r\nQ 975 2250 775 1800 \r\nz\r\nM 1750 2825 \r\nQ 2350 2825 2612 2425 \r\nQ 2875 2025 2875 1525 \r\nQ 2875 775 2512 412 \r\nQ 2150 50 1675 50 \r\nQ 1000 50 650 562 \r\nQ 300 1075 300 2050 \r\nQ 300 3200 725 3812 \r\nQ 1150 4425 1875 4425 \r\nQ 2225 4425 2437 4225 \r\nQ 2650 4025 2650 3875 \r\nQ 2650 3725 2587 3650 \r\nQ 2525 3575 2375 3575 \r\nQ 2250 3575 2187 3637 \r\nQ 2125 3700 2125 3825 \r\nQ 2125 3875 2150 3925 \r\nQ 2150 3975 2150 4025 \r\nQ 2150 4125 2075 4187 \r\nQ 2000 4250 1800 4250 \r\nQ 1375 4250 1075 3862 \r\nQ 775 3475 775 2175 \r\nQ 925 2500 1187 2662 \r\nQ 1450 2825 1750 2825 \r\nz\r\n\" id=\"SimSun-36\" transform=\"scale(0.015625)\"/>\r\n        <path d=\"M 625 1125 \r\nQ 625 725 887 475 \r\nQ 1150 225 1550 225 \r\nQ 2025 225 2237 475 \r\nQ 2450 725 2450 1100 \r\nQ 2450 1425 2150 1725 \r\nQ 1850 2025 1250 2275 \r\nQ 950 2075 787 1775 \r\nQ 625 1475 625 1125 \r\nz\r\nM 2825 1175 \r\nQ 2825 700 2475 375 \r\nQ 2125 50 1550 50 \r\nQ 1025 50 650 375 \r\nQ 275 700 275 1125 \r\nQ 275 1550 487 1850 \r\nQ 700 2150 1100 2375 \r\nQ 750 2550 562 2812 \r\nQ 375 3075 375 3400 \r\nQ 375 3825 700 4125 \r\nQ 1025 4425 1600 4425 \r\nQ 2125 4425 2450 4125 \r\nQ 2775 3825 2775 3400 \r\nQ 2775 3100 2587 2837 \r\nQ 2400 2575 2000 2375 \r\nQ 2425 2125 2625 1825 \r\nQ 2825 1525 2825 1175 \r\nz\r\nM 2425 3375 \r\nQ 2425 3725 2225 3987 \r\nQ 2025 4250 1600 4250 \r\nQ 1125 4250 925 4000 \r\nQ 725 3750 725 3475 \r\nQ 725 3200 1012 2937 \r\nQ 1300 2675 1825 2475 \r\nQ 2125 2625 2275 2850 \r\nQ 2425 3075 2425 3375 \r\nz\r\n\" id=\"SimSun-38\" transform=\"scale(0.015625)\"/>\r\n        <path d=\"M 2325 3325 \r\nQ 2325 3775 2125 4012 \r\nQ 1925 4250 1525 4250 \r\nQ 1225 4250 1012 4087 \r\nQ 800 3925 800 3675 \r\nQ 800 3525 900 3425 \r\nQ 975 3325 975 3225 \r\nQ 975 3100 912 3037 \r\nQ 850 2975 725 2975 \r\nQ 575 2975 487 3062 \r\nQ 400 3150 400 3350 \r\nQ 400 3875 775 4150 \r\nQ 1150 4425 1575 4425 \r\nQ 2175 4425 2462 4125 \r\nQ 2750 3825 2750 3375 \r\nQ 2750 3075 2612 2775 \r\nQ 2475 2475 2175 2200 \r\nQ 1450 1500 1062 1062 \r\nQ 675 625 600 475 \r\nL 2075 475 \r\nQ 2300 475 2450 650 \r\nQ 2600 825 2650 1175 \r\nL 2800 1175 \r\nL 2650 100 \r\nL 325 100 \r\nL 325 425 \r\nQ 450 650 737 1000 \r\nQ 1025 1350 1500 1825 \r\nQ 1925 2250 2125 2625 \r\nQ 2325 3000 2325 3325 \r\nz\r\n\" id=\"SimSun-32\" transform=\"scale(0.015625)\"/>\r\n       </defs>\r\n       <use xlink:href=\"#SimSun-28\"/>\r\n       <use x=\"50\" xlink:href=\"#SimSun-27\"/>\r\n       <use x=\"100\" xlink:href=\"#SimSun-77\"/>\r\n       <use x=\"150\" xlink:href=\"#SimSun-74\"/>\r\n       <use x=\"200\" xlink:href=\"#SimSun-6d\"/>\r\n       <use x=\"250\" xlink:href=\"#SimSun-6b\"/>\r\n       <use x=\"300\" xlink:href=\"#SimSun-36\"/>\r\n       <use x=\"350\" xlink:href=\"#SimSun-38\"/>\r\n       <use x=\"400\" xlink:href=\"#SimSun-27\"/>\r\n       <use x=\"450\" xlink:href=\"#SimSun-2c\"/>\r\n       <use x=\"500\" xlink:href=\"#SimSun-20\"/>\r\n       <use x=\"550\" xlink:href=\"#SimSun-27\"/>\r\n       <use x=\"600\" xlink:href=\"#SimSun-77\"/>\r\n       <use x=\"650\" xlink:href=\"#SimSun-74\"/>\r\n       <use x=\"700\" xlink:href=\"#SimSun-6d\"/>\r\n       <use x=\"750\" xlink:href=\"#SimSun-6b\"/>\r\n       <use x=\"800\" xlink:href=\"#SimSun-37\"/>\r\n       <use x=\"850\" xlink:href=\"#SimSun-32\"/>\r\n       <use x=\"900\" xlink:href=\"#SimSun-27\"/>\r\n       <use x=\"950\" xlink:href=\"#SimSun-29\"/>\r\n      </g>\r\n     </g>\r\n    </g>\r\n    <g id=\"xtick_4\">\r\n     <g id=\"line2d_4\">\r\n      <g>\r\n       <use style=\"stroke:#000000;stroke-width:0.8;\" x=\"261.285\" xlink:href=\"#m24e0605d78\" y=\"224.64\"/>\r\n      </g>\r\n     </g>\r\n     <g id=\"text_4\">\r\n      <!-- ('wtms6j', 'wtms7j') -->\r\n      <g transform=\"translate(266.353359 381.64)rotate(-90)scale(0.15 -0.15)\">\r\n       <defs>\r\n        <path d=\"M 2475 350 \r\nQ 2475 -225 2125 -525 \r\nQ 1775 -825 1275 -825 \r\nQ 875 -825 687 -700 \r\nQ 500 -575 500 -400 \r\nQ 500 -300 562 -237 \r\nQ 625 -175 750 -175 \r\nQ 875 -175 912 -250 \r\nQ 950 -325 975 -400 \r\nQ 1025 -550 1100 -587 \r\nQ 1175 -625 1350 -625 \r\nQ 1750 -625 1937 -412 \r\nQ 2125 -200 2125 250 \r\nL 2125 2525 \r\nQ 2125 2625 2075 2687 \r\nQ 2025 2750 1900 2750 \r\nL 1400 2750 \r\nL 1400 2900 \r\nL 1625 2900 \r\nQ 1850 2900 2050 2937 \r\nQ 2250 2975 2425 3075 \r\nL 2475 3075 \r\nL 2475 350 \r\nz\r\nM 2425 3025 \r\nL 2425 3025 \r\nz\r\nM 2275 4425 \r\nQ 2425 4425 2512 4337 \r\nQ 2600 4250 2600 4125 \r\nQ 2600 4000 2512 3900 \r\nQ 2425 3800 2275 3800 \r\nQ 2150 3800 2050 3900 \r\nQ 1950 4000 1950 4125 \r\nQ 1950 4250 2050 4337 \r\nQ 2150 4425 2275 4425 \r\nz\r\n\" id=\"SimSun-6a\" transform=\"scale(0.015625)\"/>\r\n       </defs>\r\n       <use xlink:href=\"#SimSun-28\"/>\r\n       <use x=\"50\" xlink:href=\"#SimSun-27\"/>\r\n       <use x=\"100\" xlink:href=\"#SimSun-77\"/>\r\n       <use x=\"150\" xlink:href=\"#SimSun-74\"/>\r\n       <use x=\"200\" xlink:href=\"#SimSun-6d\"/>\r\n       <use x=\"250\" xlink:href=\"#SimSun-73\"/>\r\n       <use x=\"300\" xlink:href=\"#SimSun-36\"/>\r\n       <use x=\"350\" xlink:href=\"#SimSun-6a\"/>\r\n       <use x=\"400\" xlink:href=\"#SimSun-27\"/>\r\n       <use x=\"450\" xlink:href=\"#SimSun-2c\"/>\r\n       <use x=\"500\" xlink:href=\"#SimSun-20\"/>\r\n       <use x=\"550\" xlink:href=\"#SimSun-27\"/>\r\n       <use x=\"600\" xlink:href=\"#SimSun-77\"/>\r\n       <use x=\"650\" xlink:href=\"#SimSun-74\"/>\r\n       <use x=\"700\" xlink:href=\"#SimSun-6d\"/>\r\n       <use x=\"750\" xlink:href=\"#SimSun-73\"/>\r\n       <use x=\"800\" xlink:href=\"#SimSun-37\"/>\r\n       <use x=\"850\" xlink:href=\"#SimSun-6a\"/>\r\n       <use x=\"900\" xlink:href=\"#SimSun-27\"/>\r\n       <use x=\"950\" xlink:href=\"#SimSun-29\"/>\r\n      </g>\r\n     </g>\r\n    </g>\r\n    <g id=\"xtick_5\">\r\n     <g id=\"line2d_5\">\r\n      <g>\r\n       <use style=\"stroke:#000000;stroke-width:0.8;\" x=\"328.245\" xlink:href=\"#m24e0605d78\" y=\"224.64\"/>\r\n      </g>\r\n     </g>\r\n     <g id=\"text_5\">\r\n      <!-- ('wtm7xp', 'wtme8p') -->\r\n      <g transform=\"translate(333.313359 381.64)rotate(-90)scale(0.15 -0.15)\">\r\n       <defs>\r\n        <path d=\"M 2400 1650 \r\nQ 2425 2200 2212 2487 \r\nQ 2000 2775 1650 2775 \r\nQ 1275 2775 1037 2475 \r\nQ 800 2175 800 1650 \r\nL 2400 1650 \r\nz\r\nM 800 1500 \r\nQ 800 825 1062 537 \r\nQ 1325 250 1750 250 \r\nQ 2075 250 2300 437 \r\nQ 2525 625 2625 900 \r\nL 2750 850 \r\nQ 2675 575 2412 312 \r\nQ 2150 50 1700 50 \r\nQ 1125 50 762 425 \r\nQ 400 800 400 1500 \r\nQ 400 2125 762 2537 \r\nQ 1125 2950 1650 2950 \r\nQ 2125 2950 2475 2625 \r\nQ 2825 2300 2825 1500 \r\nL 800 1500 \r\nz\r\n\" id=\"SimSun-65\" transform=\"scale(0.015625)\"/>\r\n       </defs>\r\n       <use xlink:href=\"#SimSun-28\"/>\r\n       <use x=\"50\" xlink:href=\"#SimSun-27\"/>\r\n       <use x=\"100\" xlink:href=\"#SimSun-77\"/>\r\n       <use x=\"150\" xlink:href=\"#SimSun-74\"/>\r\n       <use x=\"200\" xlink:href=\"#SimSun-6d\"/>\r\n       <use x=\"250\" xlink:href=\"#SimSun-37\"/>\r\n       <use x=\"300\" xlink:href=\"#SimSun-78\"/>\r\n       <use x=\"350\" xlink:href=\"#SimSun-70\"/>\r\n       <use x=\"400\" xlink:href=\"#SimSun-27\"/>\r\n       <use x=\"450\" xlink:href=\"#SimSun-2c\"/>\r\n       <use x=\"500\" xlink:href=\"#SimSun-20\"/>\r\n       <use x=\"550\" xlink:href=\"#SimSun-27\"/>\r\n       <use x=\"600\" xlink:href=\"#SimSun-77\"/>\r\n       <use x=\"650\" xlink:href=\"#SimSun-74\"/>\r\n       <use x=\"700\" xlink:href=\"#SimSun-6d\"/>\r\n       <use x=\"750\" xlink:href=\"#SimSun-65\"/>\r\n       <use x=\"800\" xlink:href=\"#SimSun-38\"/>\r\n       <use x=\"850\" xlink:href=\"#SimSun-70\"/>\r\n       <use x=\"900\" xlink:href=\"#SimSun-27\"/>\r\n       <use x=\"950\" xlink:href=\"#SimSun-29\"/>\r\n      </g>\r\n     </g>\r\n    </g>\r\n   </g>\r\n   <g id=\"matplotlib.axis_2\">\r\n    <g id=\"ytick_1\">\r\n     <g id=\"line2d_6\">\r\n      <defs>\r\n       <path d=\"M 0 0 \r\nL -3.5 0 \r\n\" id=\"m78c719e37e\" style=\"stroke:#000000;stroke-width:0.8;\"/>\r\n      </defs>\r\n      <g>\r\n       <use style=\"stroke:#000000;stroke-width:0.8;\" x=\"26.925\" xlink:href=\"#m78c719e37e\" y=\"223.481909\"/>\r\n      </g>\r\n     </g>\r\n     <g id=\"text_6\">\r\n      <!-- 0 -->\r\n      <g transform=\"translate(13.5625 227.281127)scale(0.1 -0.1)\">\r\n       <defs>\r\n        <path d=\"M 2034 4250 \r\nQ 1547 4250 1301 3770 \r\nQ 1056 3291 1056 2328 \r\nQ 1056 1369 1301 889 \r\nQ 1547 409 2034 409 \r\nQ 2525 409 2770 889 \r\nQ 3016 1369 3016 2328 \r\nQ 3016 3291 2770 3770 \r\nQ 2525 4250 2034 4250 \r\nz\r\nM 2034 4750 \r\nQ 2819 4750 3233 4129 \r\nQ 3647 3509 3647 2328 \r\nQ 3647 1150 3233 529 \r\nQ 2819 -91 2034 -91 \r\nQ 1250 -91 836 529 \r\nQ 422 1150 422 2328 \r\nQ 422 3509 836 4129 \r\nQ 1250 4750 2034 4750 \r\nz\r\n\" id=\"DejaVuSans-30\" transform=\"scale(0.015625)\"/>\r\n       </defs>\r\n       <use xlink:href=\"#DejaVuSans-30\"/>\r\n      </g>\r\n     </g>\r\n    </g>\r\n    <g id=\"ytick_2\">\r\n     <g id=\"line2d_7\">\r\n      <g>\r\n       <use style=\"stroke:#000000;stroke-width:0.8;\" x=\"26.925\" xlink:href=\"#m78c719e37e\" y=\"194.493387\"/>\r\n      </g>\r\n     </g>\r\n     <g id=\"text_7\">\r\n      <!-- 10 -->\r\n      <g transform=\"translate(7.2 198.292606)scale(0.1 -0.1)\">\r\n       <defs>\r\n        <path d=\"M 794 531 \r\nL 1825 531 \r\nL 1825 4091 \r\nL 703 3866 \r\nL 703 4441 \r\nL 1819 4666 \r\nL 2450 4666 \r\nL 2450 531 \r\nL 3481 531 \r\nL 3481 0 \r\nL 794 0 \r\nL 794 531 \r\nz\r\n\" id=\"DejaVuSans-31\" transform=\"scale(0.015625)\"/>\r\n       </defs>\r\n       <use xlink:href=\"#DejaVuSans-31\"/>\r\n       <use x=\"63.623047\" xlink:href=\"#DejaVuSans-30\"/>\r\n      </g>\r\n     </g>\r\n    </g>\r\n    <g id=\"ytick_3\">\r\n     <g id=\"line2d_8\">\r\n      <g>\r\n       <use style=\"stroke:#000000;stroke-width:0.8;\" x=\"26.925\" xlink:href=\"#m78c719e37e\" y=\"165.504866\"/>\r\n      </g>\r\n     </g>\r\n     <g id=\"text_8\">\r\n      <!-- 20 -->\r\n      <g transform=\"translate(7.2 169.304085)scale(0.1 -0.1)\">\r\n       <defs>\r\n        <path d=\"M 1228 531 \r\nL 3431 531 \r\nL 3431 0 \r\nL 469 0 \r\nL 469 531 \r\nQ 828 903 1448 1529 \r\nQ 2069 2156 2228 2338 \r\nQ 2531 2678 2651 2914 \r\nQ 2772 3150 2772 3378 \r\nQ 2772 3750 2511 3984 \r\nQ 2250 4219 1831 4219 \r\nQ 1534 4219 1204 4116 \r\nQ 875 4013 500 3803 \r\nL 500 4441 \r\nQ 881 4594 1212 4672 \r\nQ 1544 4750 1819 4750 \r\nQ 2544 4750 2975 4387 \r\nQ 3406 4025 3406 3419 \r\nQ 3406 3131 3298 2873 \r\nQ 3191 2616 2906 2266 \r\nQ 2828 2175 2409 1742 \r\nQ 1991 1309 1228 531 \r\nz\r\n\" id=\"DejaVuSans-32\" transform=\"scale(0.015625)\"/>\r\n       </defs>\r\n       <use xlink:href=\"#DejaVuSans-32\"/>\r\n       <use x=\"63.623047\" xlink:href=\"#DejaVuSans-30\"/>\r\n      </g>\r\n     </g>\r\n    </g>\r\n    <g id=\"ytick_4\">\r\n     <g id=\"line2d_9\">\r\n      <g>\r\n       <use style=\"stroke:#000000;stroke-width:0.8;\" x=\"26.925\" xlink:href=\"#m78c719e37e\" y=\"136.516344\"/>\r\n      </g>\r\n     </g>\r\n     <g id=\"text_9\">\r\n      <!-- 30 -->\r\n      <g transform=\"translate(7.2 140.315563)scale(0.1 -0.1)\">\r\n       <defs>\r\n        <path d=\"M 2597 2516 \r\nQ 3050 2419 3304 2112 \r\nQ 3559 1806 3559 1356 \r\nQ 3559 666 3084 287 \r\nQ 2609 -91 1734 -91 \r\nQ 1441 -91 1130 -33 \r\nQ 819 25 488 141 \r\nL 488 750 \r\nQ 750 597 1062 519 \r\nQ 1375 441 1716 441 \r\nQ 2309 441 2620 675 \r\nQ 2931 909 2931 1356 \r\nQ 2931 1769 2642 2001 \r\nQ 2353 2234 1838 2234 \r\nL 1294 2234 \r\nL 1294 2753 \r\nL 1863 2753 \r\nQ 2328 2753 2575 2939 \r\nQ 2822 3125 2822 3475 \r\nQ 2822 3834 2567 4026 \r\nQ 2313 4219 1838 4219 \r\nQ 1578 4219 1281 4162 \r\nQ 984 4106 628 3988 \r\nL 628 4550 \r\nQ 988 4650 1302 4700 \r\nQ 1616 4750 1894 4750 \r\nQ 2613 4750 3031 4423 \r\nQ 3450 4097 3450 3541 \r\nQ 3450 3153 3228 2886 \r\nQ 3006 2619 2597 2516 \r\nz\r\n\" id=\"DejaVuSans-33\" transform=\"scale(0.015625)\"/>\r\n       </defs>\r\n       <use xlink:href=\"#DejaVuSans-33\"/>\r\n       <use x=\"63.623047\" xlink:href=\"#DejaVuSans-30\"/>\r\n      </g>\r\n     </g>\r\n    </g>\r\n    <g id=\"ytick_5\">\r\n     <g id=\"line2d_10\">\r\n      <g>\r\n       <use style=\"stroke:#000000;stroke-width:0.8;\" x=\"26.925\" xlink:href=\"#m78c719e37e\" y=\"107.527823\"/>\r\n      </g>\r\n     </g>\r\n     <g id=\"text_10\">\r\n      <!-- 40 -->\r\n      <g transform=\"translate(7.2 111.327042)scale(0.1 -0.1)\">\r\n       <defs>\r\n        <path d=\"M 2419 4116 \r\nL 825 1625 \r\nL 2419 1625 \r\nL 2419 4116 \r\nz\r\nM 2253 4666 \r\nL 3047 4666 \r\nL 3047 1625 \r\nL 3713 1625 \r\nL 3713 1100 \r\nL 3047 1100 \r\nL 3047 0 \r\nL 2419 0 \r\nL 2419 1100 \r\nL 313 1100 \r\nL 313 1709 \r\nL 2253 4666 \r\nz\r\n\" id=\"DejaVuSans-34\" transform=\"scale(0.015625)\"/>\r\n       </defs>\r\n       <use xlink:href=\"#DejaVuSans-34\"/>\r\n       <use x=\"63.623047\" xlink:href=\"#DejaVuSans-30\"/>\r\n      </g>\r\n     </g>\r\n    </g>\r\n    <g id=\"ytick_6\">\r\n     <g id=\"line2d_11\">\r\n      <g>\r\n       <use style=\"stroke:#000000;stroke-width:0.8;\" x=\"26.925\" xlink:href=\"#m78c719e37e\" y=\"78.539302\"/>\r\n      </g>\r\n     </g>\r\n     <g id=\"text_11\">\r\n      <!-- 50 -->\r\n      <g transform=\"translate(7.2 82.33852)scale(0.1 -0.1)\">\r\n       <defs>\r\n        <path d=\"M 691 4666 \r\nL 3169 4666 \r\nL 3169 4134 \r\nL 1269 4134 \r\nL 1269 2991 \r\nQ 1406 3038 1543 3061 \r\nQ 1681 3084 1819 3084 \r\nQ 2600 3084 3056 2656 \r\nQ 3513 2228 3513 1497 \r\nQ 3513 744 3044 326 \r\nQ 2575 -91 1722 -91 \r\nQ 1428 -91 1123 -41 \r\nQ 819 9 494 109 \r\nL 494 744 \r\nQ 775 591 1075 516 \r\nQ 1375 441 1709 441 \r\nQ 2250 441 2565 725 \r\nQ 2881 1009 2881 1497 \r\nQ 2881 1984 2565 2268 \r\nQ 2250 2553 1709 2553 \r\nQ 1456 2553 1204 2497 \r\nQ 953 2441 691 2322 \r\nL 691 4666 \r\nz\r\n\" id=\"DejaVuSans-35\" transform=\"scale(0.015625)\"/>\r\n       </defs>\r\n       <use xlink:href=\"#DejaVuSans-35\"/>\r\n       <use x=\"63.623047\" xlink:href=\"#DejaVuSans-30\"/>\r\n      </g>\r\n     </g>\r\n    </g>\r\n    <g id=\"ytick_7\">\r\n     <g id=\"line2d_12\">\r\n      <g>\r\n       <use style=\"stroke:#000000;stroke-width:0.8;\" x=\"26.925\" xlink:href=\"#m78c719e37e\" y=\"49.55078\"/>\r\n      </g>\r\n     </g>\r\n     <g id=\"text_12\">\r\n      <!-- 60 -->\r\n      <g transform=\"translate(7.2 53.349999)scale(0.1 -0.1)\">\r\n       <defs>\r\n        <path d=\"M 2113 2584 \r\nQ 1688 2584 1439 2293 \r\nQ 1191 2003 1191 1497 \r\nQ 1191 994 1439 701 \r\nQ 1688 409 2113 409 \r\nQ 2538 409 2786 701 \r\nQ 3034 994 3034 1497 \r\nQ 3034 2003 2786 2293 \r\nQ 2538 2584 2113 2584 \r\nz\r\nM 3366 4563 \r\nL 3366 3988 \r\nQ 3128 4100 2886 4159 \r\nQ 2644 4219 2406 4219 \r\nQ 1781 4219 1451 3797 \r\nQ 1122 3375 1075 2522 \r\nQ 1259 2794 1537 2939 \r\nQ 1816 3084 2150 3084 \r\nQ 2853 3084 3261 2657 \r\nQ 3669 2231 3669 1497 \r\nQ 3669 778 3244 343 \r\nQ 2819 -91 2113 -91 \r\nQ 1303 -91 875 529 \r\nQ 447 1150 447 2328 \r\nQ 447 3434 972 4092 \r\nQ 1497 4750 2381 4750 \r\nQ 2619 4750 2861 4703 \r\nQ 3103 4656 3366 4563 \r\nz\r\n\" id=\"DejaVuSans-36\" transform=\"scale(0.015625)\"/>\r\n       </defs>\r\n       <use xlink:href=\"#DejaVuSans-36\"/>\r\n       <use x=\"63.623047\" xlink:href=\"#DejaVuSans-30\"/>\r\n      </g>\r\n     </g>\r\n    </g>\r\n    <g id=\"ytick_8\">\r\n     <g id=\"line2d_13\">\r\n      <g>\r\n       <use style=\"stroke:#000000;stroke-width:0.8;\" x=\"26.925\" xlink:href=\"#m78c719e37e\" y=\"20.562259\"/>\r\n      </g>\r\n     </g>\r\n     <g id=\"text_13\">\r\n      <!-- 70 -->\r\n      <g transform=\"translate(7.2 24.361478)scale(0.1 -0.1)\">\r\n       <defs>\r\n        <path d=\"M 525 4666 \r\nL 3525 4666 \r\nL 3525 4397 \r\nL 1831 0 \r\nL 1172 0 \r\nL 2766 4134 \r\nL 525 4134 \r\nL 525 4666 \r\nz\r\n\" id=\"DejaVuSans-37\" transform=\"scale(0.015625)\"/>\r\n       </defs>\r\n       <use xlink:href=\"#DejaVuSans-37\"/>\r\n       <use x=\"63.623047\" xlink:href=\"#DejaVuSans-30\"/>\r\n      </g>\r\n     </g>\r\n    </g>\r\n   </g>\r\n   <g id=\"line2d_14\">\r\n    <path clip-path=\"url(#pdfa3416dc9)\" d=\"M 43.665 213.046041 \r\nL 77.145 213.046041 \r\nL 77.145 210.90089 \r\nL 43.665 210.90089 \r\nL 43.665 213.046041 \r\n\" style=\"fill:none;stroke:#1f77b4;stroke-linecap:square;\"/>\r\n   </g>\r\n   <g id=\"line2d_15\">\r\n    <path clip-path=\"url(#pdfa3416dc9)\" d=\"M 60.405 213.046041 \r\nL 60.405 214.698387 \r\n\" style=\"fill:none;stroke:#1f77b4;stroke-linecap:square;\"/>\r\n   </g>\r\n   <g id=\"line2d_16\">\r\n    <path clip-path=\"url(#pdfa3416dc9)\" d=\"M 60.405 210.90089 \r\nL 60.405 207.741141 \r\n\" style=\"fill:none;stroke:#1f77b4;stroke-linecap:square;\"/>\r\n   </g>\r\n   <g id=\"line2d_17\">\r\n    <path clip-path=\"url(#pdfa3416dc9)\" d=\"M 52.035 214.698387 \r\nL 68.775 214.698387 \r\n\" style=\"fill:none;stroke:#1f77b4;stroke-linecap:square;\"/>\r\n   </g>\r\n   <g id=\"line2d_18\">\r\n    <path clip-path=\"url(#pdfa3416dc9)\" d=\"M 52.035 207.741141 \r\nL 68.775 207.741141 \r\n\" style=\"fill:none;stroke:#1f77b4;stroke-linecap:square;\"/>\r\n   </g>\r\n   <g id=\"line2d_19\">\r\n    <defs>\r\n     <path d=\"M 0 3 \r\nC 0.795609 3 1.55874 2.683901 2.12132 2.12132 \r\nC 2.683901 1.55874 3 0.795609 3 0 \r\nC 3 -0.795609 2.683901 -1.55874 2.12132 -2.12132 \r\nC 1.55874 -2.683901 0.795609 -3 0 -3 \r\nC -0.795609 -3 -1.55874 -2.683901 -2.12132 -2.12132 \r\nC -2.683901 -1.55874 -3 -0.795609 -3 0 \r\nC -3 0.795609 -2.683901 1.55874 -2.12132 2.12132 \r\nC -1.55874 2.683901 -0.795609 3 0 3 \r\nz\r\n\" id=\"m99e8953ad4\" style=\"stroke:#000000;\"/>\r\n    </defs>\r\n    <g clip-path=\"url(#pdfa3416dc9)\">\r\n     <use style=\"fill-opacity:0;stroke:#000000;\" x=\"60.405\" xlink:href=\"#m99e8953ad4\" y=\"204.581393\"/>\r\n     <use style=\"fill-opacity:0;stroke:#000000;\" x=\"60.405\" xlink:href=\"#m99e8953ad4\" y=\"199.711321\"/>\r\n     <use style=\"fill-opacity:0;stroke:#000000;\" x=\"60.405\" xlink:href=\"#m99e8953ad4\" y=\"206.871486\"/>\r\n     <use style=\"fill-opacity:0;stroke:#000000;\" x=\"60.405\" xlink:href=\"#m99e8953ad4\" y=\"206.378681\"/>\r\n     <use style=\"fill-opacity:0;stroke:#000000;\" x=\"60.405\" xlink:href=\"#m99e8953ad4\" y=\"204.291507\"/>\r\n     <use style=\"fill-opacity:0;stroke:#000000;\" x=\"60.405\" xlink:href=\"#m99e8953ad4\" y=\"206.958451\"/>\r\n     <use style=\"fill-opacity:0;stroke:#000000;\" x=\"60.405\" xlink:href=\"#m99e8953ad4\" y=\"205.306106\"/>\r\n     <use style=\"fill-opacity:0;stroke:#000000;\" x=\"60.405\" xlink:href=\"#m99e8953ad4\" y=\"206.378681\"/>\r\n     <use style=\"fill-opacity:0;stroke:#000000;\" x=\"60.405\" xlink:href=\"#m99e8953ad4\" y=\"207.509233\"/>\r\n     <use style=\"fill-opacity:0;stroke:#000000;\" x=\"60.405\" xlink:href=\"#m99e8953ad4\" y=\"204.349484\"/>\r\n     <use style=\"fill-opacity:0;stroke:#000000;\" x=\"60.405\" xlink:href=\"#m99e8953ad4\" y=\"203.566794\"/>\r\n     <use style=\"fill-opacity:0;stroke:#000000;\" x=\"60.405\" xlink:href=\"#m99e8953ad4\" y=\"206.262727\"/>\r\n     <use style=\"fill-opacity:0;stroke:#000000;\" x=\"60.405\" xlink:href=\"#m99e8953ad4\" y=\"205.624979\"/>\r\n     <use style=\"fill-opacity:0;stroke:#000000;\" x=\"60.405\" xlink:href=\"#m99e8953ad4\" y=\"207.596199\"/>\r\n     <use style=\"fill-opacity:0;stroke:#000000;\" x=\"60.405\" xlink:href=\"#m99e8953ad4\" y=\"200.11716\"/>\r\n     <use style=\"fill-opacity:0;stroke:#000000;\" x=\"60.405\" xlink:href=\"#m99e8953ad4\" y=\"207.248337\"/>\r\n     <use style=\"fill-opacity:0;stroke:#000000;\" x=\"60.405\" xlink:href=\"#m99e8953ad4\" y=\"205.21914\"/>\r\n     <use style=\"fill-opacity:0;stroke:#000000;\" x=\"60.405\" xlink:href=\"#m99e8953ad4\" y=\"207.596199\"/>\r\n     <use style=\"fill-opacity:0;stroke:#000000;\" x=\"60.405\" xlink:href=\"#m99e8953ad4\" y=\"206.146773\"/>\r\n     <use style=\"fill-opacity:0;stroke:#000000;\" x=\"60.405\" xlink:href=\"#m99e8953ad4\" y=\"206.291715\"/>\r\n     <use style=\"fill-opacity:0;stroke:#000000;\" x=\"60.405\" xlink:href=\"#m99e8953ad4\" y=\"206.088796\"/>\r\n     <use style=\"fill-opacity:0;stroke:#000000;\" x=\"60.405\" xlink:href=\"#m99e8953ad4\" y=\"206.668566\"/>\r\n     <use style=\"fill-opacity:0;stroke:#000000;\" x=\"60.405\" xlink:href=\"#m99e8953ad4\" y=\"206.088796\"/>\r\n     <use style=\"fill-opacity:0;stroke:#000000;\" x=\"60.405\" xlink:href=\"#m99e8953ad4\" y=\"206.494635\"/>\r\n     <use style=\"fill-opacity:0;stroke:#000000;\" x=\"60.405\" xlink:href=\"#m99e8953ad4\" y=\"206.697555\"/>\r\n     <use style=\"fill-opacity:0;stroke:#000000;\" x=\"60.405\" xlink:href=\"#m99e8953ad4\" y=\"207.596199\"/>\r\n     <use style=\"fill-opacity:0;stroke:#000000;\" x=\"60.405\" xlink:href=\"#m99e8953ad4\" y=\"207.625187\"/>\r\n     <use style=\"fill-opacity:0;stroke:#000000;\" x=\"60.405\" xlink:href=\"#m99e8953ad4\" y=\"207.683164\"/>\r\n     <use style=\"fill-opacity:0;stroke:#000000;\" x=\"60.405\" xlink:href=\"#m99e8953ad4\" y=\"206.088796\"/>\r\n     <use style=\"fill-opacity:0;stroke:#000000;\" x=\"60.405\" xlink:href=\"#m99e8953ad4\" y=\"207.306314\"/>\r\n     <use style=\"fill-opacity:0;stroke:#000000;\" x=\"60.405\" xlink:href=\"#m99e8953ad4\" y=\"206.088796\"/>\r\n     <use style=\"fill-opacity:0;stroke:#000000;\" x=\"60.405\" xlink:href=\"#m99e8953ad4\" y=\"207.56721\"/>\r\n     <use style=\"fill-opacity:0;stroke:#000000;\" x=\"60.405\" xlink:href=\"#m99e8953ad4\" y=\"207.538222\"/>\r\n     <use style=\"fill-opacity:0;stroke:#000000;\" x=\"60.405\" xlink:href=\"#m99e8953ad4\" y=\"206.407669\"/>\r\n     <use style=\"fill-opacity:0;stroke:#000000;\" x=\"60.405\" xlink:href=\"#m99e8953ad4\" y=\"206.552612\"/>\r\n     <use style=\"fill-opacity:0;stroke:#000000;\" x=\"60.405\" xlink:href=\"#m99e8953ad4\" y=\"207.306314\"/>\r\n     <use style=\"fill-opacity:0;stroke:#000000;\" x=\"60.405\" xlink:href=\"#m99e8953ad4\" y=\"207.248337\"/>\r\n     <use style=\"fill-opacity:0;stroke:#000000;\" x=\"60.405\" xlink:href=\"#m99e8953ad4\" y=\"206.088796\"/>\r\n     <use style=\"fill-opacity:0;stroke:#000000;\" x=\"60.405\" xlink:href=\"#m99e8953ad4\" y=\"207.509233\"/>\r\n     <use style=\"fill-opacity:0;stroke:#000000;\" x=\"60.405\" xlink:href=\"#m99e8953ad4\" y=\"206.291715\"/>\r\n     <use style=\"fill-opacity:0;stroke:#000000;\" x=\"60.405\" xlink:href=\"#m99e8953ad4\" y=\"205.335094\"/>\r\n     <use style=\"fill-opacity:0;stroke:#000000;\" x=\"60.405\" xlink:href=\"#m99e8953ad4\" y=\"205.567002\"/>\r\n     <use style=\"fill-opacity:0;stroke:#000000;\" x=\"60.405\" xlink:href=\"#m99e8953ad4\" y=\"205.682956\"/>\r\n     <use style=\"fill-opacity:0;stroke:#000000;\" x=\"60.405\" xlink:href=\"#m99e8953ad4\" y=\"204.871278\"/>\r\n     <use style=\"fill-opacity:0;stroke:#000000;\" x=\"60.405\" xlink:href=\"#m99e8953ad4\" y=\"205.451048\"/>\r\n     <use style=\"fill-opacity:0;stroke:#000000;\" x=\"60.405\" xlink:href=\"#m99e8953ad4\" y=\"207.364291\"/>\r\n     <use style=\"fill-opacity:0;stroke:#000000;\" x=\"60.405\" xlink:href=\"#m99e8953ad4\" y=\"207.045417\"/>\r\n     <use style=\"fill-opacity:0;stroke:#000000;\" x=\"60.405\" xlink:href=\"#m99e8953ad4\" y=\"201.218724\"/>\r\n     <use style=\"fill-opacity:0;stroke:#000000;\" x=\"60.405\" xlink:href=\"#m99e8953ad4\" y=\"205.943853\"/>\r\n     <use style=\"fill-opacity:0;stroke:#000000;\" x=\"60.405\" xlink:href=\"#m99e8953ad4\" y=\"205.885876\"/>\r\n     <use style=\"fill-opacity:0;stroke:#000000;\" x=\"60.405\" xlink:href=\"#m99e8953ad4\" y=\"206.059807\"/>\r\n     <use style=\"fill-opacity:0;stroke:#000000;\" x=\"60.405\" xlink:href=\"#m99e8953ad4\" y=\"207.161371\"/>\r\n     <use style=\"fill-opacity:0;stroke:#000000;\" x=\"60.405\" xlink:href=\"#m99e8953ad4\" y=\"205.190152\"/>\r\n     <use style=\"fill-opacity:0;stroke:#000000;\" x=\"60.405\" xlink:href=\"#m99e8953ad4\" y=\"207.103394\"/>\r\n     <use style=\"fill-opacity:0;stroke:#000000;\" x=\"60.405\" xlink:href=\"#m99e8953ad4\" y=\"207.596199\"/>\r\n     <use style=\"fill-opacity:0;stroke:#000000;\" x=\"60.405\" xlink:href=\"#m99e8953ad4\" y=\"204.494427\"/>\r\n     <use style=\"fill-opacity:0;stroke:#000000;\" x=\"60.405\" xlink:href=\"#m99e8953ad4\" y=\"207.56721\"/>\r\n     <use style=\"fill-opacity:0;stroke:#000000;\" x=\"60.405\" xlink:href=\"#m99e8953ad4\" y=\"206.668566\"/>\r\n     <use style=\"fill-opacity:0;stroke:#000000;\" x=\"60.405\" xlink:href=\"#m99e8953ad4\" y=\"207.538222\"/>\r\n     <use style=\"fill-opacity:0;stroke:#000000;\" x=\"60.405\" xlink:href=\"#m99e8953ad4\" y=\"206.349692\"/>\r\n     <use style=\"fill-opacity:0;stroke:#000000;\" x=\"60.405\" xlink:href=\"#m99e8953ad4\" y=\"207.538222\"/>\r\n     <use style=\"fill-opacity:0;stroke:#000000;\" x=\"60.405\" xlink:href=\"#m99e8953ad4\" y=\"207.277325\"/>\r\n     <use style=\"fill-opacity:0;stroke:#000000;\" x=\"60.405\" xlink:href=\"#m99e8953ad4\" y=\"204.929255\"/>\r\n     <use style=\"fill-opacity:0;stroke:#000000;\" x=\"60.405\" xlink:href=\"#m99e8953ad4\" y=\"207.393279\"/>\r\n     <use style=\"fill-opacity:0;stroke:#000000;\" x=\"60.405\" xlink:href=\"#m99e8953ad4\" y=\"207.538222\"/>\r\n     <use style=\"fill-opacity:0;stroke:#000000;\" x=\"60.405\" xlink:href=\"#m99e8953ad4\" y=\"204.929255\"/>\r\n     <use style=\"fill-opacity:0;stroke:#000000;\" x=\"60.405\" xlink:href=\"#m99e8953ad4\" y=\"206.78452\"/>\r\n     <use style=\"fill-opacity:0;stroke:#000000;\" x=\"60.405\" xlink:href=\"#m99e8953ad4\" y=\"207.654176\"/>\r\n     <use style=\"fill-opacity:0;stroke:#000000;\" x=\"60.405\" xlink:href=\"#m99e8953ad4\" y=\"206.175761\"/>\r\n     <use style=\"fill-opacity:0;stroke:#000000;\" x=\"60.405\" xlink:href=\"#m99e8953ad4\" y=\"207.538222\"/>\r\n     <use style=\"fill-opacity:0;stroke:#000000;\" x=\"60.405\" xlink:href=\"#m99e8953ad4\" y=\"197.97201\"/>\r\n     <use style=\"fill-opacity:0;stroke:#000000;\" x=\"60.405\" xlink:href=\"#m99e8953ad4\" y=\"204.262519\"/>\r\n     <use style=\"fill-opacity:0;stroke:#000000;\" x=\"60.405\" xlink:href=\"#m99e8953ad4\" y=\"206.639578\"/>\r\n     <use style=\"fill-opacity:0;stroke:#000000;\" x=\"60.405\" xlink:href=\"#m99e8953ad4\" y=\"207.56721\"/>\r\n     <use style=\"fill-opacity:0;stroke:#000000;\" x=\"60.405\" xlink:href=\"#m99e8953ad4\" y=\"204.63937\"/>\r\n     <use style=\"fill-opacity:0;stroke:#000000;\" x=\"60.405\" xlink:href=\"#m99e8953ad4\" y=\"206.20475\"/>\r\n     <use style=\"fill-opacity:0;stroke:#000000;\" x=\"60.405\" xlink:href=\"#m99e8953ad4\" y=\"206.726543\"/>\r\n     <use style=\"fill-opacity:0;stroke:#000000;\" x=\"60.405\" xlink:href=\"#m99e8953ad4\" y=\"206.668566\"/>\r\n     <use style=\"fill-opacity:0;stroke:#000000;\" x=\"60.405\" xlink:href=\"#m99e8953ad4\" y=\"206.088796\"/>\r\n     <use style=\"fill-opacity:0;stroke:#000000;\" x=\"60.405\" xlink:href=\"#m99e8953ad4\" y=\"204.958243\"/>\r\n     <use style=\"fill-opacity:0;stroke:#000000;\" x=\"60.405\" xlink:href=\"#m99e8953ad4\" y=\"207.56721\"/>\r\n     <use style=\"fill-opacity:0;stroke:#000000;\" x=\"60.405\" xlink:href=\"#m99e8953ad4\" y=\"206.755532\"/>\r\n     <use style=\"fill-opacity:0;stroke:#000000;\" x=\"60.405\" xlink:href=\"#m99e8953ad4\" y=\"205.769922\"/>\r\n     <use style=\"fill-opacity:0;stroke:#000000;\" x=\"60.405\" xlink:href=\"#m99e8953ad4\" y=\"205.21914\"/>\r\n     <use style=\"fill-opacity:0;stroke:#000000;\" x=\"60.405\" xlink:href=\"#m99e8953ad4\" y=\"207.248337\"/>\r\n     <use style=\"fill-opacity:0;stroke:#000000;\" x=\"60.405\" xlink:href=\"#m99e8953ad4\" y=\"202.900058\"/>\r\n     <use style=\"fill-opacity:0;stroke:#000000;\" x=\"60.405\" xlink:href=\"#m99e8953ad4\" y=\"205.885876\"/>\r\n     <use style=\"fill-opacity:0;stroke:#000000;\" x=\"60.405\" xlink:href=\"#m99e8953ad4\" y=\"206.668566\"/>\r\n     <use style=\"fill-opacity:0;stroke:#000000;\" x=\"60.405\" xlink:href=\"#m99e8953ad4\" y=\"206.00183\"/>\r\n     <use style=\"fill-opacity:0;stroke:#000000;\" x=\"60.405\" xlink:href=\"#m99e8953ad4\" y=\"206.958451\"/>\r\n     <use style=\"fill-opacity:0;stroke:#000000;\" x=\"60.405\" xlink:href=\"#m99e8953ad4\" y=\"207.625187\"/>\r\n     <use style=\"fill-opacity:0;stroke:#000000;\" x=\"60.405\" xlink:href=\"#m99e8953ad4\" y=\"206.378681\"/>\r\n     <use style=\"fill-opacity:0;stroke:#000000;\" x=\"60.405\" xlink:href=\"#m99e8953ad4\" y=\"207.56721\"/>\r\n     <use style=\"fill-opacity:0;stroke:#000000;\" x=\"60.405\" xlink:href=\"#m99e8953ad4\" y=\"206.958451\"/>\r\n     <use style=\"fill-opacity:0;stroke:#000000;\" x=\"60.405\" xlink:href=\"#m99e8953ad4\" y=\"202.900058\"/>\r\n     <use style=\"fill-opacity:0;stroke:#000000;\" x=\"60.405\" xlink:href=\"#m99e8953ad4\" y=\"206.378681\"/>\r\n     <use style=\"fill-opacity:0;stroke:#000000;\" x=\"60.405\" xlink:href=\"#m99e8953ad4\" y=\"206.349692\"/>\r\n     <use style=\"fill-opacity:0;stroke:#000000;\" x=\"60.405\" xlink:href=\"#m99e8953ad4\" y=\"206.813509\"/>\r\n     <use style=\"fill-opacity:0;stroke:#000000;\" x=\"60.405\" xlink:href=\"#m99e8953ad4\" y=\"207.538222\"/>\r\n     <use style=\"fill-opacity:0;stroke:#000000;\" x=\"60.405\" xlink:href=\"#m99e8953ad4\" y=\"205.943853\"/>\r\n     <use style=\"fill-opacity:0;stroke:#000000;\" x=\"60.405\" xlink:href=\"#m99e8953ad4\" y=\"207.306314\"/>\r\n     <use style=\"fill-opacity:0;stroke:#000000;\" x=\"60.405\" xlink:href=\"#m99e8953ad4\" y=\"200.928839\"/>\r\n     <use style=\"fill-opacity:0;stroke:#000000;\" x=\"60.405\" xlink:href=\"#m99e8953ad4\" y=\"206.668566\"/>\r\n     <use style=\"fill-opacity:0;stroke:#000000;\" x=\"60.405\" xlink:href=\"#m99e8953ad4\" y=\"207.509233\"/>\r\n     <use style=\"fill-opacity:0;stroke:#000000;\" x=\"60.405\" xlink:href=\"#m99e8953ad4\" y=\"206.378681\"/>\r\n     <use style=\"fill-opacity:0;stroke:#000000;\" x=\"60.405\" xlink:href=\"#m99e8953ad4\" y=\"204.378473\"/>\r\n     <use style=\"fill-opacity:0;stroke:#000000;\" x=\"60.405\" xlink:href=\"#m99e8953ad4\" y=\"206.668566\"/>\r\n     <use style=\"fill-opacity:0;stroke:#000000;\" x=\"60.405\" xlink:href=\"#m99e8953ad4\" y=\"206.436658\"/>\r\n     <use style=\"fill-opacity:0;stroke:#000000;\" x=\"60.405\" xlink:href=\"#m99e8953ad4\" y=\"206.088796\"/>\r\n     <use style=\"fill-opacity:0;stroke:#000000;\" x=\"60.405\" xlink:href=\"#m99e8953ad4\" y=\"203.392863\"/>\r\n     <use style=\"fill-opacity:0;stroke:#000000;\" x=\"60.405\" xlink:href=\"#m99e8953ad4\" y=\"204.929255\"/>\r\n     <use style=\"fill-opacity:0;stroke:#000000;\" x=\"60.405\" xlink:href=\"#m99e8953ad4\" y=\"204.552404\"/>\r\n     <use style=\"fill-opacity:0;stroke:#000000;\" x=\"60.405\" xlink:href=\"#m99e8953ad4\" y=\"207.596199\"/>\r\n     <use style=\"fill-opacity:0;stroke:#000000;\" x=\"60.405\" xlink:href=\"#m99e8953ad4\" y=\"204.668358\"/>\r\n     <use style=\"fill-opacity:0;stroke:#000000;\" x=\"60.405\" xlink:href=\"#m99e8953ad4\" y=\"199.566378\"/>\r\n     <use style=\"fill-opacity:0;stroke:#000000;\" x=\"60.405\" xlink:href=\"#m99e8953ad4\" y=\"202.436242\"/>\r\n     <use style=\"fill-opacity:0;stroke:#000000;\" x=\"60.405\" xlink:href=\"#m99e8953ad4\" y=\"207.451256\"/>\r\n    </g>\r\n   </g>\r\n   <g id=\"line2d_20\">\r\n    <path clip-path=\"url(#pdfa3416dc9)\" d=\"M 110.625 212.46627 \r\nL 144.105 212.46627 \r\nL 144.105 210.1182 \r\nL 110.625 210.1182 \r\nL 110.625 212.46627 \r\n\" style=\"fill:none;stroke:#1f77b4;stroke-linecap:square;\"/>\r\n   </g>\r\n   <g id=\"line2d_21\">\r\n    <path clip-path=\"url(#pdfa3416dc9)\" d=\"M 127.365 212.46627 \r\nL 127.365 214.669398 \r\n\" style=\"fill:none;stroke:#1f77b4;stroke-linecap:square;\"/>\r\n   </g>\r\n   <g id=\"line2d_22\">\r\n    <path clip-path=\"url(#pdfa3416dc9)\" d=\"M 127.365 210.1182 \r\nL 127.365 206.610589 \r\n\" style=\"fill:none;stroke:#1f77b4;stroke-linecap:square;\"/>\r\n   </g>\r\n   <g id=\"line2d_23\">\r\n    <path clip-path=\"url(#pdfa3416dc9)\" d=\"M 118.995 214.669398 \r\nL 135.735 214.669398 \r\n\" style=\"fill:none;stroke:#1f77b4;stroke-linecap:square;\"/>\r\n   </g>\r\n   <g id=\"line2d_24\">\r\n    <path clip-path=\"url(#pdfa3416dc9)\" d=\"M 118.995 206.610589 \r\nL 135.735 206.610589 \r\n\" style=\"fill:none;stroke:#1f77b4;stroke-linecap:square;\"/>\r\n   </g>\r\n   <g id=\"line2d_25\">\r\n    <g clip-path=\"url(#pdfa3416dc9)\">\r\n     <use style=\"fill-opacity:0;stroke:#000000;\" x=\"127.365\" xlink:href=\"#m99e8953ad4\" y=\"204.581393\"/>\r\n     <use style=\"fill-opacity:0;stroke:#000000;\" x=\"127.365\" xlink:href=\"#m99e8953ad4\" y=\"206.552612\"/>\r\n     <use style=\"fill-opacity:0;stroke:#000000;\" x=\"127.365\" xlink:href=\"#m99e8953ad4\" y=\"196.551572\"/>\r\n     <use style=\"fill-opacity:0;stroke:#000000;\" x=\"127.365\" xlink:href=\"#m99e8953ad4\" y=\"206.117784\"/>\r\n     <use style=\"fill-opacity:0;stroke:#000000;\" x=\"127.365\" xlink:href=\"#m99e8953ad4\" y=\"206.523624\"/>\r\n     <use style=\"fill-opacity:0;stroke:#000000;\" x=\"127.365\" xlink:href=\"#m99e8953ad4\" y=\"204.407462\"/>\r\n     <use style=\"fill-opacity:0;stroke:#000000;\" x=\"127.365\" xlink:href=\"#m99e8953ad4\" y=\"204.320496\"/>\r\n     <use style=\"fill-opacity:0;stroke:#000000;\" x=\"127.365\" xlink:href=\"#m99e8953ad4\" y=\"205.480037\"/>\r\n     <use style=\"fill-opacity:0;stroke:#000000;\" x=\"127.365\" xlink:href=\"#m99e8953ad4\" y=\"206.349692\"/>\r\n     <use style=\"fill-opacity:0;stroke:#000000;\" x=\"127.365\" xlink:href=\"#m99e8953ad4\" y=\"206.117784\"/>\r\n     <use style=\"fill-opacity:0;stroke:#000000;\" x=\"127.365\" xlink:href=\"#m99e8953ad4\" y=\"204.784312\"/>\r\n     <use style=\"fill-opacity:0;stroke:#000000;\" x=\"127.365\" xlink:href=\"#m99e8953ad4\" y=\"200.89985\"/>\r\n     <use style=\"fill-opacity:0;stroke:#000000;\" x=\"127.365\" xlink:href=\"#m99e8953ad4\" y=\"206.436658\"/>\r\n     <use style=\"fill-opacity:0;stroke:#000000;\" x=\"127.365\" xlink:href=\"#m99e8953ad4\" y=\"205.074197\"/>\r\n     <use style=\"fill-opacity:0;stroke:#000000;\" x=\"127.365\" xlink:href=\"#m99e8953ad4\" y=\"206.523624\"/>\r\n     <use style=\"fill-opacity:0;stroke:#000000;\" x=\"127.365\" xlink:href=\"#m99e8953ad4\" y=\"206.436658\"/>\r\n     <use style=\"fill-opacity:0;stroke:#000000;\" x=\"127.365\" xlink:href=\"#m99e8953ad4\" y=\"204.059599\"/>\r\n     <use style=\"fill-opacity:0;stroke:#000000;\" x=\"127.365\" xlink:href=\"#m99e8953ad4\" y=\"206.378681\"/>\r\n     <use style=\"fill-opacity:0;stroke:#000000;\" x=\"127.365\" xlink:href=\"#m99e8953ad4\" y=\"205.769922\"/>\r\n     <use style=\"fill-opacity:0;stroke:#000000;\" x=\"127.365\" xlink:href=\"#m99e8953ad4\" y=\"206.349692\"/>\r\n     <use style=\"fill-opacity:0;stroke:#000000;\" x=\"127.365\" xlink:href=\"#m99e8953ad4\" y=\"204.755324\"/>\r\n     <use style=\"fill-opacity:0;stroke:#000000;\" x=\"127.365\" xlink:href=\"#m99e8953ad4\" y=\"197.943021\"/>\r\n     <use style=\"fill-opacity:0;stroke:#000000;\" x=\"127.365\" xlink:href=\"#m99e8953ad4\" y=\"202.349276\"/>\r\n     <use style=\"fill-opacity:0;stroke:#000000;\" x=\"127.365\" xlink:href=\"#m99e8953ad4\" y=\"205.509025\"/>\r\n     <use style=\"fill-opacity:0;stroke:#000000;\" x=\"127.365\" xlink:href=\"#m99e8953ad4\" y=\"201.914449\"/>\r\n     <use style=\"fill-opacity:0;stroke:#000000;\" x=\"127.365\" xlink:href=\"#m99e8953ad4\" y=\"203.421852\"/>\r\n     <use style=\"fill-opacity:0;stroke:#000000;\" x=\"127.365\" xlink:href=\"#m99e8953ad4\" y=\"204.784312\"/>\r\n     <use style=\"fill-opacity:0;stroke:#000000;\" x=\"127.365\" xlink:href=\"#m99e8953ad4\" y=\"204.929255\"/>\r\n     <use style=\"fill-opacity:0;stroke:#000000;\" x=\"127.365\" xlink:href=\"#m99e8953ad4\" y=\"202.726127\"/>\r\n     <use style=\"fill-opacity:0;stroke:#000000;\" x=\"127.365\" xlink:href=\"#m99e8953ad4\" y=\"204.001622\"/>\r\n     <use style=\"fill-opacity:0;stroke:#000000;\" x=\"127.365\" xlink:href=\"#m99e8953ad4\" y=\"206.581601\"/>\r\n     <use style=\"fill-opacity:0;stroke:#000000;\" x=\"127.365\" xlink:href=\"#m99e8953ad4\" y=\"205.856888\"/>\r\n     <use style=\"fill-opacity:0;stroke:#000000;\" x=\"127.365\" xlink:href=\"#m99e8953ad4\" y=\"206.117784\"/>\r\n     <use style=\"fill-opacity:0;stroke:#000000;\" x=\"127.365\" xlink:href=\"#m99e8953ad4\" y=\"205.161163\"/>\r\n     <use style=\"fill-opacity:0;stroke:#000000;\" x=\"127.365\" xlink:href=\"#m99e8953ad4\" y=\"205.451048\"/>\r\n     <use style=\"fill-opacity:0;stroke:#000000;\" x=\"127.365\" xlink:href=\"#m99e8953ad4\" y=\"205.190152\"/>\r\n     <use style=\"fill-opacity:0;stroke:#000000;\" x=\"127.365\" xlink:href=\"#m99e8953ad4\" y=\"203.276909\"/>\r\n     <use style=\"fill-opacity:0;stroke:#000000;\" x=\"127.365\" xlink:href=\"#m99e8953ad4\" y=\"204.813301\"/>\r\n     <use style=\"fill-opacity:0;stroke:#000000;\" x=\"127.365\" xlink:href=\"#m99e8953ad4\" y=\"205.364083\"/>\r\n     <use style=\"fill-opacity:0;stroke:#000000;\" x=\"127.365\" xlink:href=\"#m99e8953ad4\" y=\"205.074197\"/>\r\n     <use style=\"fill-opacity:0;stroke:#000000;\" x=\"127.365\" xlink:href=\"#m99e8953ad4\" y=\"204.813301\"/>\r\n     <use style=\"fill-opacity:0;stroke:#000000;\" x=\"127.365\" xlink:href=\"#m99e8953ad4\" y=\"206.552612\"/>\r\n     <use style=\"fill-opacity:0;stroke:#000000;\" x=\"127.365\" xlink:href=\"#m99e8953ad4\" y=\"202.610173\"/>\r\n     <use style=\"fill-opacity:0;stroke:#000000;\" x=\"127.365\" xlink:href=\"#m99e8953ad4\" y=\"206.146773\"/>\r\n     <use style=\"fill-opacity:0;stroke:#000000;\" x=\"127.365\" xlink:href=\"#m99e8953ad4\" y=\"205.740933\"/>\r\n     <use style=\"fill-opacity:0;stroke:#000000;\" x=\"127.365\" xlink:href=\"#m99e8953ad4\" y=\"190.145109\"/>\r\n     <use style=\"fill-opacity:0;stroke:#000000;\" x=\"127.365\" xlink:href=\"#m99e8953ad4\" y=\"205.045209\"/>\r\n     <use style=\"fill-opacity:0;stroke:#000000;\" x=\"127.365\" xlink:href=\"#m99e8953ad4\" y=\"201.595575\"/>\r\n     <use style=\"fill-opacity:0;stroke:#000000;\" x=\"127.365\" xlink:href=\"#m99e8953ad4\" y=\"205.277117\"/>\r\n    </g>\r\n   </g>\r\n   <g id=\"line2d_26\">\r\n    <path clip-path=\"url(#pdfa3416dc9)\" d=\"M 177.585 212.901098 \r\nL 211.065 212.901098 \r\nL 211.065 210.248649 \r\nL 177.585 210.248649 \r\nL 177.585 212.901098 \r\n\" style=\"fill:none;stroke:#1f77b4;stroke-linecap:square;\"/>\r\n   </g>\r\n   <g id=\"line2d_27\">\r\n    <path clip-path=\"url(#pdfa3416dc9)\" d=\"M 194.325 212.901098 \r\nL 194.325 214.756364 \r\n\" style=\"fill:none;stroke:#1f77b4;stroke-linecap:square;\"/>\r\n   </g>\r\n   <g id=\"line2d_28\">\r\n    <path clip-path=\"url(#pdfa3416dc9)\" d=\"M 194.325 210.248649 \r\nL 194.325 206.291715 \r\n\" style=\"fill:none;stroke:#1f77b4;stroke-linecap:square;\"/>\r\n   </g>\r\n   <g id=\"line2d_29\">\r\n    <path clip-path=\"url(#pdfa3416dc9)\" d=\"M 185.955 214.756364 \r\nL 202.695 214.756364 \r\n\" style=\"fill:none;stroke:#1f77b4;stroke-linecap:square;\"/>\r\n   </g>\r\n   <g id=\"line2d_30\">\r\n    <path clip-path=\"url(#pdfa3416dc9)\" d=\"M 185.955 206.291715 \r\nL 202.695 206.291715 \r\n\" style=\"fill:none;stroke:#1f77b4;stroke-linecap:square;\"/>\r\n   </g>\r\n   <g id=\"line2d_31\">\r\n    <g clip-path=\"url(#pdfa3416dc9)\">\r\n     <use style=\"fill-opacity:0;stroke:#000000;\" x=\"194.325\" xlink:href=\"#m99e8953ad4\" y=\"199.914241\"/>\r\n     <use style=\"fill-opacity:0;stroke:#000000;\" x=\"194.325\" xlink:href=\"#m99e8953ad4\" y=\"197.682125\"/>\r\n     <use style=\"fill-opacity:0;stroke:#000000;\" x=\"194.325\" xlink:href=\"#m99e8953ad4\" y=\"198.609757\"/>\r\n     <use style=\"fill-opacity:0;stroke:#000000;\" x=\"194.325\" xlink:href=\"#m99e8953ad4\" y=\"206.146773\"/>\r\n     <use style=\"fill-opacity:0;stroke:#000000;\" x=\"194.325\" xlink:href=\"#m99e8953ad4\" y=\"206.117784\"/>\r\n     <use style=\"fill-opacity:0;stroke:#000000;\" x=\"194.325\" xlink:href=\"#m99e8953ad4\" y=\"206.088796\"/>\r\n     <use style=\"fill-opacity:0;stroke:#000000;\" x=\"194.325\" xlink:href=\"#m99e8953ad4\" y=\"205.509025\"/>\r\n     <use style=\"fill-opacity:0;stroke:#000000;\" x=\"194.325\" xlink:href=\"#m99e8953ad4\" y=\"204.465439\"/>\r\n     <use style=\"fill-opacity:0;stroke:#000000;\" x=\"194.325\" xlink:href=\"#m99e8953ad4\" y=\"202.813093\"/>\r\n     <use style=\"fill-opacity:0;stroke:#000000;\" x=\"194.325\" xlink:href=\"#m99e8953ad4\" y=\"203.885668\"/>\r\n     <use style=\"fill-opacity:0;stroke:#000000;\" x=\"194.325\" xlink:href=\"#m99e8953ad4\" y=\"200.001206\"/>\r\n     <use style=\"fill-opacity:0;stroke:#000000;\" x=\"194.325\" xlink:href=\"#m99e8953ad4\" y=\"204.059599\"/>\r\n     <use style=\"fill-opacity:0;stroke:#000000;\" x=\"194.325\" xlink:href=\"#m99e8953ad4\" y=\"205.827899\"/>\r\n     <use style=\"fill-opacity:0;stroke:#000000;\" x=\"194.325\" xlink:href=\"#m99e8953ad4\" y=\"194.087548\"/>\r\n     <use style=\"fill-opacity:0;stroke:#000000;\" x=\"194.325\" xlink:href=\"#m99e8953ad4\" y=\"204.813301\"/>\r\n     <use style=\"fill-opacity:0;stroke:#000000;\" x=\"194.325\" xlink:href=\"#m99e8953ad4\" y=\"203.740726\"/>\r\n     <use style=\"fill-opacity:0;stroke:#000000;\" x=\"194.325\" xlink:href=\"#m99e8953ad4\" y=\"156.692355\"/>\r\n     <use style=\"fill-opacity:0;stroke:#000000;\" x=\"194.325\" xlink:href=\"#m99e8953ad4\" y=\"203.334886\"/>\r\n     <use style=\"fill-opacity:0;stroke:#000000;\" x=\"194.325\" xlink:href=\"#m99e8953ad4\" y=\"204.407462\"/>\r\n     <use style=\"fill-opacity:0;stroke:#000000;\" x=\"194.325\" xlink:href=\"#m99e8953ad4\" y=\"202.552196\"/>\r\n     <use style=\"fill-opacity:0;stroke:#000000;\" x=\"194.325\" xlink:href=\"#m99e8953ad4\" y=\"205.21914\"/>\r\n     <use style=\"fill-opacity:0;stroke:#000000;\" x=\"194.325\" xlink:href=\"#m99e8953ad4\" y=\"204.581393\"/>\r\n     <use style=\"fill-opacity:0;stroke:#000000;\" x=\"194.325\" xlink:href=\"#m99e8953ad4\" y=\"205.451048\"/>\r\n     <use style=\"fill-opacity:0;stroke:#000000;\" x=\"194.325\" xlink:href=\"#m99e8953ad4\" y=\"205.943853\"/>\r\n     <use style=\"fill-opacity:0;stroke:#000000;\" x=\"194.325\" xlink:href=\"#m99e8953ad4\" y=\"205.682956\"/>\r\n     <use style=\"fill-opacity:0;stroke:#000000;\" x=\"194.325\" xlink:href=\"#m99e8953ad4\" y=\"201.740518\"/>\r\n     <use style=\"fill-opacity:0;stroke:#000000;\" x=\"194.325\" xlink:href=\"#m99e8953ad4\" y=\"206.088796\"/>\r\n     <use style=\"fill-opacity:0;stroke:#000000;\" x=\"194.325\" xlink:href=\"#m99e8953ad4\" y=\"205.103186\"/>\r\n     <use style=\"fill-opacity:0;stroke:#000000;\" x=\"194.325\" xlink:href=\"#m99e8953ad4\" y=\"204.929255\"/>\r\n     <use style=\"fill-opacity:0;stroke:#000000;\" x=\"194.325\" xlink:href=\"#m99e8953ad4\" y=\"203.479829\"/>\r\n     <use style=\"fill-opacity:0;stroke:#000000;\" x=\"194.325\" xlink:href=\"#m99e8953ad4\" y=\"204.958243\"/>\r\n     <use style=\"fill-opacity:0;stroke:#000000;\" x=\"194.325\" xlink:href=\"#m99e8953ad4\" y=\"203.885668\"/>\r\n     <use style=\"fill-opacity:0;stroke:#000000;\" x=\"194.325\" xlink:href=\"#m99e8953ad4\" y=\"203.160955\"/>\r\n     <use style=\"fill-opacity:0;stroke:#000000;\" x=\"194.325\" xlink:href=\"#m99e8953ad4\" y=\"205.364083\"/>\r\n     <use style=\"fill-opacity:0;stroke:#000000;\" x=\"194.325\" xlink:href=\"#m99e8953ad4\" y=\"206.088796\"/>\r\n     <use style=\"fill-opacity:0;stroke:#000000;\" x=\"194.325\" xlink:href=\"#m99e8953ad4\" y=\"204.059599\"/>\r\n     <use style=\"fill-opacity:0;stroke:#000000;\" x=\"194.325\" xlink:href=\"#m99e8953ad4\" y=\"205.21914\"/>\r\n     <use style=\"fill-opacity:0;stroke:#000000;\" x=\"194.325\" xlink:href=\"#m99e8953ad4\" y=\"189.942189\"/>\r\n     <use style=\"fill-opacity:0;stroke:#000000;\" x=\"194.325\" xlink:href=\"#m99e8953ad4\" y=\"17.083636\"/>\r\n    </g>\r\n   </g>\r\n   <g id=\"line2d_32\">\r\n    <path clip-path=\"url(#pdfa3416dc9)\" d=\"M 244.545 209.915281 \r\nL 278.025 209.915281 \r\nL 278.025 207.828107 \r\nL 244.545 207.828107 \r\nL 244.545 209.915281 \r\n\" style=\"fill:none;stroke:#1f77b4;stroke-linecap:square;\"/>\r\n   </g>\r\n   <g id=\"line2d_33\">\r\n    <path clip-path=\"url(#pdfa3416dc9)\" d=\"M 261.285 209.915281 \r\nL 261.285 213.017052 \r\n\" style=\"fill:none;stroke:#1f77b4;stroke-linecap:square;\"/>\r\n   </g>\r\n   <g id=\"line2d_34\">\r\n    <path clip-path=\"url(#pdfa3416dc9)\" d=\"M 261.285 207.828107 \r\nL 261.285 204.697347 \r\n\" style=\"fill:none;stroke:#1f77b4;stroke-linecap:square;\"/>\r\n   </g>\r\n   <g id=\"line2d_35\">\r\n    <path clip-path=\"url(#pdfa3416dc9)\" d=\"M 252.915 213.017052 \r\nL 269.655 213.017052 \r\n\" style=\"fill:none;stroke:#1f77b4;stroke-linecap:square;\"/>\r\n   </g>\r\n   <g id=\"line2d_36\">\r\n    <path clip-path=\"url(#pdfa3416dc9)\" d=\"M 252.915 204.697347 \r\nL 269.655 204.697347 \r\n\" style=\"fill:none;stroke:#1f77b4;stroke-linecap:square;\"/>\r\n   </g>\r\n   <g id=\"line2d_37\">\r\n    <g clip-path=\"url(#pdfa3416dc9)\">\r\n     <use style=\"fill-opacity:0;stroke:#000000;\" x=\"261.285\" xlink:href=\"#m99e8953ad4\" y=\"213.364915\"/>\r\n     <use style=\"fill-opacity:0;stroke:#000000;\" x=\"261.285\" xlink:href=\"#m99e8953ad4\" y=\"213.422892\"/>\r\n     <use style=\"fill-opacity:0;stroke:#000000;\" x=\"261.285\" xlink:href=\"#m99e8953ad4\" y=\"213.306938\"/>\r\n     <use style=\"fill-opacity:0;stroke:#000000;\" x=\"261.285\" xlink:href=\"#m99e8953ad4\" y=\"213.828731\"/>\r\n     <use style=\"fill-opacity:0;stroke:#000000;\" x=\"261.285\" xlink:href=\"#m99e8953ad4\" y=\"214.756364\"/>\r\n     <use style=\"fill-opacity:0;stroke:#000000;\" x=\"261.285\" xlink:href=\"#m99e8953ad4\" y=\"203.276909\"/>\r\n     <use style=\"fill-opacity:0;stroke:#000000;\" x=\"261.285\" xlink:href=\"#m99e8953ad4\" y=\"201.88546\"/>\r\n     <use style=\"fill-opacity:0;stroke:#000000;\" x=\"261.285\" xlink:href=\"#m99e8953ad4\" y=\"204.63937\"/>\r\n     <use style=\"fill-opacity:0;stroke:#000000;\" x=\"261.285\" xlink:href=\"#m99e8953ad4\" y=\"204.349484\"/>\r\n     <use style=\"fill-opacity:0;stroke:#000000;\" x=\"261.285\" xlink:href=\"#m99e8953ad4\" y=\"204.610381\"/>\r\n     <use style=\"fill-opacity:0;stroke:#000000;\" x=\"261.285\" xlink:href=\"#m99e8953ad4\" y=\"204.204542\"/>\r\n     <use style=\"fill-opacity:0;stroke:#000000;\" x=\"261.285\" xlink:href=\"#m99e8953ad4\" y=\"199.53739\"/>\r\n     <use style=\"fill-opacity:0;stroke:#000000;\" x=\"261.285\" xlink:href=\"#m99e8953ad4\" y=\"203.595783\"/>\r\n     <use style=\"fill-opacity:0;stroke:#000000;\" x=\"261.285\" xlink:href=\"#m99e8953ad4\" y=\"204.581393\"/>\r\n     <use style=\"fill-opacity:0;stroke:#000000;\" x=\"261.285\" xlink:href=\"#m99e8953ad4\" y=\"200.580977\"/>\r\n     <use style=\"fill-opacity:0;stroke:#000000;\" x=\"261.285\" xlink:href=\"#m99e8953ad4\" y=\"203.508817\"/>\r\n     <use style=\"fill-opacity:0;stroke:#000000;\" x=\"261.285\" xlink:href=\"#m99e8953ad4\" y=\"204.059599\"/>\r\n     <use style=\"fill-opacity:0;stroke:#000000;\" x=\"261.285\" xlink:href=\"#m99e8953ad4\" y=\"202.523208\"/>\r\n     <use style=\"fill-opacity:0;stroke:#000000;\" x=\"261.285\" xlink:href=\"#m99e8953ad4\" y=\"203.943645\"/>\r\n     <use style=\"fill-opacity:0;stroke:#000000;\" x=\"261.285\" xlink:href=\"#m99e8953ad4\" y=\"204.088588\"/>\r\n     <use style=\"fill-opacity:0;stroke:#000000;\" x=\"261.285\" xlink:href=\"#m99e8953ad4\" y=\"204.610381\"/>\r\n     <use style=\"fill-opacity:0;stroke:#000000;\" x=\"261.285\" xlink:href=\"#m99e8953ad4\" y=\"204.059599\"/>\r\n     <use style=\"fill-opacity:0;stroke:#000000;\" x=\"261.285\" xlink:href=\"#m99e8953ad4\" y=\"201.160747\"/>\r\n     <use style=\"fill-opacity:0;stroke:#000000;\" x=\"261.285\" xlink:href=\"#m99e8953ad4\" y=\"204.059599\"/>\r\n     <use style=\"fill-opacity:0;stroke:#000000;\" x=\"261.285\" xlink:href=\"#m99e8953ad4\" y=\"199.711321\"/>\r\n     <use style=\"fill-opacity:0;stroke:#000000;\" x=\"261.285\" xlink:href=\"#m99e8953ad4\" y=\"204.088588\"/>\r\n     <use style=\"fill-opacity:0;stroke:#000000;\" x=\"261.285\" xlink:href=\"#m99e8953ad4\" y=\"201.769506\"/>\r\n     <use style=\"fill-opacity:0;stroke:#000000;\" x=\"261.285\" xlink:href=\"#m99e8953ad4\" y=\"204.175553\"/>\r\n     <use style=\"fill-opacity:0;stroke:#000000;\" x=\"261.285\" xlink:href=\"#m99e8953ad4\" y=\"201.740518\"/>\r\n     <use style=\"fill-opacity:0;stroke:#000000;\" x=\"261.285\" xlink:href=\"#m99e8953ad4\" y=\"199.305482\"/>\r\n     <use style=\"fill-opacity:0;stroke:#000000;\" x=\"261.285\" xlink:href=\"#m99e8953ad4\" y=\"203.885668\"/>\r\n     <use style=\"fill-opacity:0;stroke:#000000;\" x=\"261.285\" xlink:href=\"#m99e8953ad4\" y=\"202.320288\"/>\r\n     <use style=\"fill-opacity:0;stroke:#000000;\" x=\"261.285\" xlink:href=\"#m99e8953ad4\" y=\"202.958035\"/>\r\n     <use style=\"fill-opacity:0;stroke:#000000;\" x=\"261.285\" xlink:href=\"#m99e8953ad4\" y=\"174.201422\"/>\r\n     <use style=\"fill-opacity:0;stroke:#000000;\" x=\"261.285\" xlink:href=\"#m99e8953ad4\" y=\"203.189944\"/>\r\n     <use style=\"fill-opacity:0;stroke:#000000;\" x=\"261.285\" xlink:href=\"#m99e8953ad4\" y=\"203.798703\"/>\r\n     <use style=\"fill-opacity:0;stroke:#000000;\" x=\"261.285\" xlink:href=\"#m99e8953ad4\" y=\"203.769714\"/>\r\n     <use style=\"fill-opacity:0;stroke:#000000;\" x=\"261.285\" xlink:href=\"#m99e8953ad4\" y=\"204.349484\"/>\r\n     <use style=\"fill-opacity:0;stroke:#000000;\" x=\"261.285\" xlink:href=\"#m99e8953ad4\" y=\"204.494427\"/>\r\n     <use style=\"fill-opacity:0;stroke:#000000;\" x=\"261.285\" xlink:href=\"#m99e8953ad4\" y=\"204.291507\"/>\r\n     <use style=\"fill-opacity:0;stroke:#000000;\" x=\"261.285\" xlink:href=\"#m99e8953ad4\" y=\"202.784104\"/>\r\n     <use style=\"fill-opacity:0;stroke:#000000;\" x=\"261.285\" xlink:href=\"#m99e8953ad4\" y=\"201.450632\"/>\r\n     <use style=\"fill-opacity:0;stroke:#000000;\" x=\"261.285\" xlink:href=\"#m99e8953ad4\" y=\"204.668358\"/>\r\n     <use style=\"fill-opacity:0;stroke:#000000;\" x=\"261.285\" xlink:href=\"#m99e8953ad4\" y=\"204.349484\"/>\r\n     <use style=\"fill-opacity:0;stroke:#000000;\" x=\"261.285\" xlink:href=\"#m99e8953ad4\" y=\"204.610381\"/>\r\n     <use style=\"fill-opacity:0;stroke:#000000;\" x=\"261.285\" xlink:href=\"#m99e8953ad4\" y=\"199.972218\"/>\r\n     <use style=\"fill-opacity:0;stroke:#000000;\" x=\"261.285\" xlink:href=\"#m99e8953ad4\" y=\"201.740518\"/>\r\n     <use style=\"fill-opacity:0;stroke:#000000;\" x=\"261.285\" xlink:href=\"#m99e8953ad4\" y=\"200.523\"/>\r\n     <use style=\"fill-opacity:0;stroke:#000000;\" x=\"261.285\" xlink:href=\"#m99e8953ad4\" y=\"195.247089\"/>\r\n     <use style=\"fill-opacity:0;stroke:#000000;\" x=\"261.285\" xlink:href=\"#m99e8953ad4\" y=\"204.43645\"/>\r\n     <use style=\"fill-opacity:0;stroke:#000000;\" x=\"261.285\" xlink:href=\"#m99e8953ad4\" y=\"202.146357\"/>\r\n     <use style=\"fill-opacity:0;stroke:#000000;\" x=\"261.285\" xlink:href=\"#m99e8953ad4\" y=\"204.523416\"/>\r\n     <use style=\"fill-opacity:0;stroke:#000000;\" x=\"261.285\" xlink:href=\"#m99e8953ad4\" y=\"203.85668\"/>\r\n     <use style=\"fill-opacity:0;stroke:#000000;\" x=\"261.285\" xlink:href=\"#m99e8953ad4\" y=\"203.85668\"/>\r\n     <use style=\"fill-opacity:0;stroke:#000000;\" x=\"261.285\" xlink:href=\"#m99e8953ad4\" y=\"203.189944\"/>\r\n     <use style=\"fill-opacity:0;stroke:#000000;\" x=\"261.285\" xlink:href=\"#m99e8953ad4\" y=\"201.624563\"/>\r\n     <use style=\"fill-opacity:0;stroke:#000000;\" x=\"261.285\" xlink:href=\"#m99e8953ad4\" y=\"200.841873\"/>\r\n     <use style=\"fill-opacity:0;stroke:#000000;\" x=\"261.285\" xlink:href=\"#m99e8953ad4\" y=\"204.552404\"/>\r\n     <use style=\"fill-opacity:0;stroke:#000000;\" x=\"261.285\" xlink:href=\"#m99e8953ad4\" y=\"203.479829\"/>\r\n     <use style=\"fill-opacity:0;stroke:#000000;\" x=\"261.285\" xlink:href=\"#m99e8953ad4\" y=\"204.117576\"/>\r\n     <use style=\"fill-opacity:0;stroke:#000000;\" x=\"261.285\" xlink:href=\"#m99e8953ad4\" y=\"203.914657\"/>\r\n     <use style=\"fill-opacity:0;stroke:#000000;\" x=\"261.285\" xlink:href=\"#m99e8953ad4\" y=\"204.610381\"/>\r\n     <use style=\"fill-opacity:0;stroke:#000000;\" x=\"261.285\" xlink:href=\"#m99e8953ad4\" y=\"203.885668\"/>\r\n     <use style=\"fill-opacity:0;stroke:#000000;\" x=\"261.285\" xlink:href=\"#m99e8953ad4\" y=\"204.088588\"/>\r\n     <use style=\"fill-opacity:0;stroke:#000000;\" x=\"261.285\" xlink:href=\"#m99e8953ad4\" y=\"203.218932\"/>\r\n     <use style=\"fill-opacity:0;stroke:#000000;\" x=\"261.285\" xlink:href=\"#m99e8953ad4\" y=\"201.769506\"/>\r\n     <use style=\"fill-opacity:0;stroke:#000000;\" x=\"261.285\" xlink:href=\"#m99e8953ad4\" y=\"204.43645\"/>\r\n     <use style=\"fill-opacity:0;stroke:#000000;\" x=\"261.285\" xlink:href=\"#m99e8953ad4\" y=\"204.349484\"/>\r\n     <use style=\"fill-opacity:0;stroke:#000000;\" x=\"261.285\" xlink:href=\"#m99e8953ad4\" y=\"203.479829\"/>\r\n     <use style=\"fill-opacity:0;stroke:#000000;\" x=\"261.285\" xlink:href=\"#m99e8953ad4\" y=\"200.870862\"/>\r\n     <use style=\"fill-opacity:0;stroke:#000000;\" x=\"261.285\" xlink:href=\"#m99e8953ad4\" y=\"197.102354\"/>\r\n     <use style=\"fill-opacity:0;stroke:#000000;\" x=\"261.285\" xlink:href=\"#m99e8953ad4\" y=\"181.158667\"/>\r\n     <use style=\"fill-opacity:0;stroke:#000000;\" x=\"261.285\" xlink:href=\"#m99e8953ad4\" y=\"200.001206\"/>\r\n     <use style=\"fill-opacity:0;stroke:#000000;\" x=\"261.285\" xlink:href=\"#m99e8953ad4\" y=\"159.707162\"/>\r\n     <use style=\"fill-opacity:0;stroke:#000000;\" x=\"261.285\" xlink:href=\"#m99e8953ad4\" y=\"202.929047\"/>\r\n     <use style=\"fill-opacity:0;stroke:#000000;\" x=\"261.285\" xlink:href=\"#m99e8953ad4\" y=\"204.059599\"/>\r\n     <use style=\"fill-opacity:0;stroke:#000000;\" x=\"261.285\" xlink:href=\"#m99e8953ad4\" y=\"202.66815\"/>\r\n     <use style=\"fill-opacity:0;stroke:#000000;\" x=\"261.285\" xlink:href=\"#m99e8953ad4\" y=\"200.89985\"/>\r\n     <use style=\"fill-opacity:0;stroke:#000000;\" x=\"261.285\" xlink:href=\"#m99e8953ad4\" y=\"203.885668\"/>\r\n     <use style=\"fill-opacity:0;stroke:#000000;\" x=\"261.285\" xlink:href=\"#m99e8953ad4\" y=\"202.581185\"/>\r\n     <use style=\"fill-opacity:0;stroke:#000000;\" x=\"261.285\" xlink:href=\"#m99e8953ad4\" y=\"193.65272\"/>\r\n     <use style=\"fill-opacity:0;stroke:#000000;\" x=\"261.285\" xlink:href=\"#m99e8953ad4\" y=\"200.349069\"/>\r\n     <use style=\"fill-opacity:0;stroke:#000000;\" x=\"261.285\" xlink:href=\"#m99e8953ad4\" y=\"199.885252\"/>\r\n     <use style=\"fill-opacity:0;stroke:#000000;\" x=\"261.285\" xlink:href=\"#m99e8953ad4\" y=\"203.07399\"/>\r\n     <use style=\"fill-opacity:0;stroke:#000000;\" x=\"261.285\" xlink:href=\"#m99e8953ad4\" y=\"202.436242\"/>\r\n     <use style=\"fill-opacity:0;stroke:#000000;\" x=\"261.285\" xlink:href=\"#m99e8953ad4\" y=\"196.145733\"/>\r\n     <use style=\"fill-opacity:0;stroke:#000000;\" x=\"261.285\" xlink:href=\"#m99e8953ad4\" y=\"199.479413\"/>\r\n     <use style=\"fill-opacity:0;stroke:#000000;\" x=\"261.285\" xlink:href=\"#m99e8953ad4\" y=\"204.378473\"/>\r\n     <use style=\"fill-opacity:0;stroke:#000000;\" x=\"261.285\" xlink:href=\"#m99e8953ad4\" y=\"199.827275\"/>\r\n     <use style=\"fill-opacity:0;stroke:#000000;\" x=\"261.285\" xlink:href=\"#m99e8953ad4\" y=\"197.56617\"/>\r\n     <use style=\"fill-opacity:0;stroke:#000000;\" x=\"261.285\" xlink:href=\"#m99e8953ad4\" y=\"202.639162\"/>\r\n     <use style=\"fill-opacity:0;stroke:#000000;\" x=\"261.285\" xlink:href=\"#m99e8953ad4\" y=\"198.348861\"/>\r\n     <use style=\"fill-opacity:0;stroke:#000000;\" x=\"261.285\" xlink:href=\"#m99e8953ad4\" y=\"203.566794\"/>\r\n     <use style=\"fill-opacity:0;stroke:#000000;\" x=\"261.285\" xlink:href=\"#m99e8953ad4\" y=\"203.943645\"/>\r\n     <use style=\"fill-opacity:0;stroke:#000000;\" x=\"261.285\" xlink:href=\"#m99e8953ad4\" y=\"199.392447\"/>\r\n     <use style=\"fill-opacity:0;stroke:#000000;\" x=\"261.285\" xlink:href=\"#m99e8953ad4\" y=\"203.827691\"/>\r\n     <use style=\"fill-opacity:0;stroke:#000000;\" x=\"261.285\" xlink:href=\"#m99e8953ad4\" y=\"199.044585\"/>\r\n     <use style=\"fill-opacity:0;stroke:#000000;\" x=\"261.285\" xlink:href=\"#m99e8953ad4\" y=\"202.987024\"/>\r\n     <use style=\"fill-opacity:0;stroke:#000000;\" x=\"261.285\" xlink:href=\"#m99e8953ad4\" y=\"198.319872\"/>\r\n     <use style=\"fill-opacity:0;stroke:#000000;\" x=\"261.285\" xlink:href=\"#m99e8953ad4\" y=\"197.479205\"/>\r\n     <use style=\"fill-opacity:0;stroke:#000000;\" x=\"261.285\" xlink:href=\"#m99e8953ad4\" y=\"201.276701\"/>\r\n    </g>\r\n   </g>\r\n   <g id=\"line2d_38\">\r\n    <path clip-path=\"url(#pdfa3416dc9)\" d=\"M 311.505 209.567418 \r\nL 344.985 209.567418 \r\nL 344.985 206.378681 \r\nL 311.505 206.378681 \r\nL 311.505 209.567418 \r\n\" style=\"fill:none;stroke:#1f77b4;stroke-linecap:square;\"/>\r\n   </g>\r\n   <g id=\"line2d_39\">\r\n    <path clip-path=\"url(#pdfa3416dc9)\" d=\"M 328.245 209.567418 \r\nL 328.245 212.727167 \r\n\" style=\"fill:none;stroke:#1f77b4;stroke-linecap:square;\"/>\r\n   </g>\r\n   <g id=\"line2d_40\">\r\n    <path clip-path=\"url(#pdfa3416dc9)\" d=\"M 328.245 206.378681 \r\nL 328.245 201.595575 \r\n\" style=\"fill:none;stroke:#1f77b4;stroke-linecap:square;\"/>\r\n   </g>\r\n   <g id=\"line2d_41\">\r\n    <path clip-path=\"url(#pdfa3416dc9)\" d=\"M 319.875 212.727167 \r\nL 336.615 212.727167 \r\n\" style=\"fill:none;stroke:#1f77b4;stroke-linecap:square;\"/>\r\n   </g>\r\n   <g id=\"line2d_42\">\r\n    <path clip-path=\"url(#pdfa3416dc9)\" d=\"M 319.875 201.595575 \r\nL 336.615 201.595575 \r\n\" style=\"fill:none;stroke:#1f77b4;stroke-linecap:square;\"/>\r\n   </g>\r\n   <g id=\"line2d_43\">\r\n    <g clip-path=\"url(#pdfa3416dc9)\">\r\n     <use style=\"fill-opacity:0;stroke:#000000;\" x=\"328.245\" xlink:href=\"#m99e8953ad4\" y=\"198.957619\"/>\r\n     <use style=\"fill-opacity:0;stroke:#000000;\" x=\"328.245\" xlink:href=\"#m99e8953ad4\" y=\"198.841665\"/>\r\n     <use style=\"fill-opacity:0;stroke:#000000;\" x=\"328.245\" xlink:href=\"#m99e8953ad4\" y=\"199.131551\"/>\r\n     <use style=\"fill-opacity:0;stroke:#000000;\" x=\"328.245\" xlink:href=\"#m99e8953ad4\" y=\"195.594951\"/>\r\n     <use style=\"fill-opacity:0;stroke:#000000;\" x=\"328.245\" xlink:href=\"#m99e8953ad4\" y=\"195.942813\"/>\r\n     <use style=\"fill-opacity:0;stroke:#000000;\" x=\"328.245\" xlink:href=\"#m99e8953ad4\" y=\"197.711113\"/>\r\n     <use style=\"fill-opacity:0;stroke:#000000;\" x=\"328.245\" xlink:href=\"#m99e8953ad4\" y=\"199.044585\"/>\r\n     <use style=\"fill-opacity:0;stroke:#000000;\" x=\"328.245\" xlink:href=\"#m99e8953ad4\" y=\"200.696931\"/>\r\n     <use style=\"fill-opacity:0;stroke:#000000;\" x=\"328.245\" xlink:href=\"#m99e8953ad4\" y=\"201.276701\"/>\r\n     <use style=\"fill-opacity:0;stroke:#000000;\" x=\"328.245\" xlink:href=\"#m99e8953ad4\" y=\"201.537598\"/>\r\n     <use style=\"fill-opacity:0;stroke:#000000;\" x=\"328.245\" xlink:href=\"#m99e8953ad4\" y=\"200.262103\"/>\r\n     <use style=\"fill-opacity:0;stroke:#000000;\" x=\"328.245\" xlink:href=\"#m99e8953ad4\" y=\"197.392239\"/>\r\n     <use style=\"fill-opacity:0;stroke:#000000;\" x=\"328.245\" xlink:href=\"#m99e8953ad4\" y=\"194.493387\"/>\r\n     <use style=\"fill-opacity:0;stroke:#000000;\" x=\"328.245\" xlink:href=\"#m99e8953ad4\" y=\"201.363667\"/>\r\n     <use style=\"fill-opacity:0;stroke:#000000;\" x=\"328.245\" xlink:href=\"#m99e8953ad4\" y=\"201.334678\"/>\r\n     <use style=\"fill-opacity:0;stroke:#000000;\" x=\"328.245\" xlink:href=\"#m99e8953ad4\" y=\"200.378057\"/>\r\n     <use style=\"fill-opacity:0;stroke:#000000;\" x=\"328.245\" xlink:href=\"#m99e8953ad4\" y=\"193.623732\"/>\r\n     <use style=\"fill-opacity:0;stroke:#000000;\" x=\"328.245\" xlink:href=\"#m99e8953ad4\" y=\"196.029779\"/>\r\n     <use style=\"fill-opacity:0;stroke:#000000;\" x=\"328.245\" xlink:href=\"#m99e8953ad4\" y=\"201.015805\"/>\r\n     <use style=\"fill-opacity:0;stroke:#000000;\" x=\"328.245\" xlink:href=\"#m99e8953ad4\" y=\"197.334262\"/>\r\n     <use style=\"fill-opacity:0;stroke:#000000;\" x=\"328.245\" xlink:href=\"#m99e8953ad4\" y=\"201.537598\"/>\r\n     <use style=\"fill-opacity:0;stroke:#000000;\" x=\"328.245\" xlink:href=\"#m99e8953ad4\" y=\"199.131551\"/>\r\n     <use style=\"fill-opacity:0;stroke:#000000;\" x=\"328.245\" xlink:href=\"#m99e8953ad4\" y=\"199.711321\"/>\r\n     <use style=\"fill-opacity:0;stroke:#000000;\" x=\"328.245\" xlink:href=\"#m99e8953ad4\" y=\"201.073782\"/>\r\n     <use style=\"fill-opacity:0;stroke:#000000;\" x=\"328.245\" xlink:href=\"#m99e8953ad4\" y=\"199.682333\"/>\r\n     <use style=\"fill-opacity:0;stroke:#000000;\" x=\"328.245\" xlink:href=\"#m99e8953ad4\" y=\"201.160747\"/>\r\n     <use style=\"fill-opacity:0;stroke:#000000;\" x=\"328.245\" xlink:href=\"#m99e8953ad4\" y=\"201.479621\"/>\r\n     <use style=\"fill-opacity:0;stroke:#000000;\" x=\"328.245\" xlink:href=\"#m99e8953ad4\" y=\"193.333846\"/>\r\n     <use style=\"fill-opacity:0;stroke:#000000;\" x=\"328.245\" xlink:href=\"#m99e8953ad4\" y=\"185.912785\"/>\r\n     <use style=\"fill-opacity:0;stroke:#000000;\" x=\"328.245\" xlink:href=\"#m99e8953ad4\" y=\"77.379761\"/>\r\n     <use style=\"fill-opacity:0;stroke:#000000;\" x=\"328.245\" xlink:href=\"#m99e8953ad4\" y=\"199.769298\"/>\r\n     <use style=\"fill-opacity:0;stroke:#000000;\" x=\"328.245\" xlink:href=\"#m99e8953ad4\" y=\"199.943229\"/>\r\n     <use style=\"fill-opacity:0;stroke:#000000;\" x=\"328.245\" xlink:href=\"#m99e8953ad4\" y=\"200.146149\"/>\r\n     <use style=\"fill-opacity:0;stroke:#000000;\" x=\"328.245\" xlink:href=\"#m99e8953ad4\" y=\"200.725919\"/>\r\n     <use style=\"fill-opacity:0;stroke:#000000;\" x=\"328.245\" xlink:href=\"#m99e8953ad4\" y=\"200.291091\"/>\r\n     <use style=\"fill-opacity:0;stroke:#000000;\" x=\"328.245\" xlink:href=\"#m99e8953ad4\" y=\"198.464815\"/>\r\n     <use style=\"fill-opacity:0;stroke:#000000;\" x=\"328.245\" xlink:href=\"#m99e8953ad4\" y=\"200.349069\"/>\r\n     <use style=\"fill-opacity:0;stroke:#000000;\" x=\"328.245\" xlink:href=\"#m99e8953ad4\" y=\"199.769298\"/>\r\n     <use style=\"fill-opacity:0;stroke:#000000;\" x=\"328.245\" xlink:href=\"#m99e8953ad4\" y=\"200.11716\"/>\r\n     <use style=\"fill-opacity:0;stroke:#000000;\" x=\"328.245\" xlink:href=\"#m99e8953ad4\" y=\"193.681709\"/>\r\n    </g>\r\n   </g>\r\n   <g id=\"line2d_44\">\r\n    <path clip-path=\"url(#pdfa3416dc9)\" d=\"M 43.665 212.045937 \r\nL 77.145 212.045937 \r\n\" style=\"fill:none;stroke:#2ca02c;stroke-linecap:square;\"/>\r\n   </g>\r\n   <g id=\"line2d_45\">\r\n    <path clip-path=\"url(#pdfa3416dc9)\" d=\"M 110.625 211.364707 \r\nL 144.105 211.364707 \r\n\" style=\"fill:none;stroke:#2ca02c;stroke-linecap:square;\"/>\r\n   </g>\r\n   <g id=\"line2d_46\">\r\n    <path clip-path=\"url(#pdfa3416dc9)\" d=\"M 177.585 211.30673 \r\nL 211.065 211.30673 \r\n\" style=\"fill:none;stroke:#2ca02c;stroke-linecap:square;\"/>\r\n   </g>\r\n   <g id=\"line2d_47\">\r\n    <path clip-path=\"url(#pdfa3416dc9)\" d=\"M 244.545 208.915177 \r\nL 278.025 208.915177 \r\n\" style=\"fill:none;stroke:#2ca02c;stroke-linecap:square;\"/>\r\n   </g>\r\n   <g id=\"line2d_48\">\r\n    <path clip-path=\"url(#pdfa3416dc9)\" d=\"M 311.505 208.146981 \r\nL 344.985 208.146981 \r\n\" style=\"fill:none;stroke:#2ca02c;stroke-linecap:square;\"/>\r\n   </g>\r\n   <g id=\"patch_3\">\r\n    <path d=\"M 26.925 224.64 \r\nL 26.925 7.2 \r\n\" style=\"fill:none;stroke:#000000;stroke-linecap:square;stroke-linejoin:miter;stroke-width:0.8;\"/>\r\n   </g>\r\n   <g id=\"patch_4\">\r\n    <path d=\"M 361.725 224.64 \r\nL 361.725 7.2 \r\n\" style=\"fill:none;stroke:#000000;stroke-linecap:square;stroke-linejoin:miter;stroke-width:0.8;\"/>\r\n   </g>\r\n   <g id=\"patch_5\">\r\n    <path d=\"M 26.925 224.64 \r\nL 361.725 224.64 \r\n\" style=\"fill:none;stroke:#000000;stroke-linecap:square;stroke-linejoin:miter;stroke-width:0.8;\"/>\r\n   </g>\r\n   <g id=\"patch_6\">\r\n    <path d=\"M 26.925 7.2 \r\nL 361.725 7.2 \r\n\" style=\"fill:none;stroke:#000000;stroke-linecap:square;stroke-linejoin:miter;stroke-width:0.8;\"/>\r\n   </g>\r\n  </g>\r\n </g>\r\n <defs>\r\n  <clipPath id=\"pdfa3416dc9\">\r\n   <rect height=\"217.44\" width=\"334.8\" x=\"26.925\" y=\"7.2\"/>\r\n  </clipPath>\r\n </defs>\r\n</svg>\r\n",
      "text/plain": [
       "<Figure size 432x288 with 1 Axes>"
      ]
     },
     "metadata": {
      "needs_background": "light"
     }
    }
   ],
   "metadata": {}
  },
  {
   "cell_type": "code",
   "execution_count": 239,
   "source": [
    "# 打印describe\r\n",
    "\r\n",
    "## 计算实际距离与上限！ Q3+1.5IQR\r\n",
    "res_[\"upper_thresh\"] = res_[\"75%\"] + 1.5 * (res_[\"75%\"] - res_[\"25%\"])\r\n",
    "\r\n",
    "for i, r in enumerate(res_.values):\r\n",
    "    # print(i, r, res_.index[i])\r\n",
    "    cur_pair = res_.index[i]\r\n",
    "    res_.iloc[i , 8] = cal_dist_with_geohash((cur_pair.split(\"'\")[1], cur_pair.split(\"'\")[3]))\r\n",
    "    # break\r\n",
    "\r\n",
    "res_.T"
   ],
   "outputs": [
    {
     "output_type": "execute_result",
     "data": {
      "text/html": [
       "<div>\n",
       "<style scoped>\n",
       "    .dataframe tbody tr th:only-of-type {\n",
       "        vertical-align: middle;\n",
       "    }\n",
       "\n",
       "    .dataframe tbody tr th {\n",
       "        vertical-align: top;\n",
       "    }\n",
       "\n",
       "    .dataframe thead th {\n",
       "        text-align: right;\n",
       "    }\n",
       "</style>\n",
       "<table border=\"1\" class=\"dataframe\">\n",
       "  <thead>\n",
       "    <tr style=\"text-align: right;\">\n",
       "      <th></th>\n",
       "      <th>('wtmt15', 'wtmscx')</th>\n",
       "      <th>('wtm7xp', 'wtm7zc')</th>\n",
       "      <th>('wtmk68', 'wtmk72')</th>\n",
       "      <th>('wtms6j', 'wtms7j')</th>\n",
       "      <th>('wtm7xp', 'wtme8p')</th>\n",
       "    </tr>\n",
       "  </thead>\n",
       "  <tbody>\n",
       "    <tr>\n",
       "      <th>count</th>\n",
       "      <td>2400.0</td>\n",
       "      <td>2171.0</td>\n",
       "      <td>2023.0</td>\n",
       "      <td>1952.0</td>\n",
       "      <td>1914.0</td>\n",
       "    </tr>\n",
       "    <tr>\n",
       "      <th>mean</th>\n",
       "      <td>4</td>\n",
       "      <td>4</td>\n",
       "      <td>4</td>\n",
       "      <td>5</td>\n",
       "      <td>5</td>\n",
       "    </tr>\n",
       "    <tr>\n",
       "      <th>std</th>\n",
       "      <td>0.668451</td>\n",
       "      <td>0.680579</td>\n",
       "      <td>1.718908</td>\n",
       "      <td>0.896871</td>\n",
       "      <td>1.34363</td>\n",
       "    </tr>\n",
       "    <tr>\n",
       "      <th>min</th>\n",
       "      <td>3.03</td>\n",
       "      <td>3.04</td>\n",
       "      <td>3.01</td>\n",
       "      <td>3.01</td>\n",
       "      <td>3.71</td>\n",
       "    </tr>\n",
       "    <tr>\n",
       "      <th>25%</th>\n",
       "      <td>3.6</td>\n",
       "      <td>3.8</td>\n",
       "      <td>3.65</td>\n",
       "      <td>4.68</td>\n",
       "      <td>4.8</td>\n",
       "    </tr>\n",
       "    <tr>\n",
       "      <th>50%</th>\n",
       "      <td>3.945</td>\n",
       "      <td>4.18</td>\n",
       "      <td>4.2</td>\n",
       "      <td>5.025</td>\n",
       "      <td>5.29</td>\n",
       "    </tr>\n",
       "    <tr>\n",
       "      <th>75%</th>\n",
       "      <td>4.34</td>\n",
       "      <td>4.61</td>\n",
       "      <td>4.565</td>\n",
       "      <td>5.4</td>\n",
       "      <td>5.9</td>\n",
       "    </tr>\n",
       "    <tr>\n",
       "      <th>max</th>\n",
       "      <td>8.8</td>\n",
       "      <td>11.5</td>\n",
       "      <td>71.2</td>\n",
       "      <td>22.0</td>\n",
       "      <td>50.4</td>\n",
       "    </tr>\n",
       "    <tr>\n",
       "      <th>hmap_dist</th>\n",
       "      <td>5.101006</td>\n",
       "      <td>4.784046</td>\n",
       "      <td>4.576899</td>\n",
       "      <td>5.64056</td>\n",
       "      <td>5.521792</td>\n",
       "    </tr>\n",
       "    <tr>\n",
       "      <th>upper_thresh</th>\n",
       "      <td>5.45</td>\n",
       "      <td>5.825</td>\n",
       "      <td>5.9375</td>\n",
       "      <td>6.48</td>\n",
       "      <td>7.55</td>\n",
       "    </tr>\n",
       "  </tbody>\n",
       "</table>\n",
       "</div>"
      ],
      "text/plain": [
       "             ('wtmt15', 'wtmscx') ('wtm7xp', 'wtm7zc') ('wtmk68', 'wtmk72')  \\\n",
       "count                      2400.0               2171.0               2023.0   \n",
       "mean                            4                    4                    4   \n",
       "std                      0.668451             0.680579             1.718908   \n",
       "min                          3.03                 3.04                 3.01   \n",
       "25%                           3.6                  3.8                 3.65   \n",
       "50%                         3.945                 4.18                  4.2   \n",
       "75%                          4.34                 4.61                4.565   \n",
       "max                           8.8                 11.5                 71.2   \n",
       "hmap_dist                5.101006             4.784046             4.576899   \n",
       "upper_thresh                 5.45                5.825               5.9375   \n",
       "\n",
       "             ('wtms6j', 'wtms7j') ('wtm7xp', 'wtme8p')  \n",
       "count                      1952.0               1914.0  \n",
       "mean                            5                    5  \n",
       "std                      0.896871              1.34363  \n",
       "min                          3.01                 3.71  \n",
       "25%                          4.68                  4.8  \n",
       "50%                         5.025                 5.29  \n",
       "75%                           5.4                  5.9  \n",
       "max                          22.0                 50.4  \n",
       "hmap_dist                 5.64056             5.521792  \n",
       "upper_thresh                 6.48                 7.55  "
      ]
     },
     "metadata": {},
     "execution_count": 239
    }
   ],
   "metadata": {}
  },
  {
   "cell_type": "code",
   "execution_count": 240,
   "source": [
    "\r\n",
    "# 给all_pairs添加一个异常上限值...\r\n",
    "all_pairs_dist_describe = pd.read_csv(\"C:\\\\Users\\\\zhengqiushi\\\\Desktop\\\\hik\\\\21-08-23\\\\data\\\\all_pairs_with_dist_describe.csv\")\r\n"
   ],
   "outputs": [],
   "metadata": {}
  },
  {
   "cell_type": "code",
   "execution_count": 249,
   "source": [
    "all_pairs_dist_describe_T = all_pairs_dist_describe.T\r\n",
    "all_pairs_dist_describe_T\r\n",
    "\r\n",
    "res_index = all_pairs_dist_describe_T.iloc[0, :].index\r\n",
    "res_name = all_pairs_dist_describe_T.iloc[0, :].values\r\n",
    "\r\n",
    "for i in range(0, len(res_name)) :\r\n",
    "    all_pairs_dist_describe_T.rename(columns={res_index[i]: res_name[i]}, inplace = True)\r\n",
    "    \r\n",
    "all_pairs_dist_describe_T = all_pairs_dist_describe_T.drop([\"Unnamed: 0\"])"
   ],
   "outputs": [],
   "metadata": {}
  },
  {
   "cell_type": "code",
   "execution_count": 250,
   "source": [
    "all_pairs_dist_describe_T[\"upper_thresh\"] = all_pairs_dist_describe_T[\"75%\"] + 1.5 * (all_pairs_dist_describe_T[\"75%\"] - all_pairs_dist_describe_T[\"25%\"])"
   ],
   "outputs": [],
   "metadata": {}
  },
  {
   "cell_type": "code",
   "execution_count": 252,
   "source": [
    "all_pairs_dist_describe_T.to_csv(\"C:\\\\Users\\\\zhengqiushi\\\\Desktop\\\\hik\\\\21-08-23\\\\data\\\\all_pairs_with_dist_describe_with_thresh.csv\")"
   ],
   "outputs": [],
   "metadata": {}
  }
 ],
 "metadata": {
  "orig_nbformat": 4,
  "language_info": {
   "name": "python",
   "version": "3.9.6",
   "mimetype": "text/x-python",
   "codemirror_mode": {
    "name": "ipython",
    "version": 3
   },
   "pygments_lexer": "ipython3",
   "nbconvert_exporter": "python",
   "file_extension": ".py"
  },
  "kernelspec": {
   "name": "python3",
   "display_name": "Python 3.9.6 64-bit"
  },
  "interpreter": {
   "hash": "8e118ca72c34c5c5aa24d76c6e51e2fd1bf1dc26fbc6eb00cec6390678d4abe2"
  }
 },
 "nbformat": 4,
 "nbformat_minor": 2
}