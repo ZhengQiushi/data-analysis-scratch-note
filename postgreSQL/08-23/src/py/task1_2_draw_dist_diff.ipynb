{
 "cells": [
  {
   "cell_type": "code",
   "execution_count": 1,
   "source": [
    "'''\r\n",
    "调用高德api/调用hmap接口（hmap联系孙修飞/陈善文），通过订单开始和结束经纬度，获取最短路径，对比订单里程，给出异常订单的推荐阈值\r\n",
    "考虑到异常路径一般不会出现在起步距离以内的订单中，故仅考虑实际里程大于3km的订单；\r\n",
    "筛选出 zke_lch_jyqk - Hmap_dist > 1 （考虑了Hmap与高德Amap本身的导航距离差异）的里程差异分布图（司机比导航多开的路程），画箱线图并统计数值特征；\r\n",
    "'''\r\n",
    "\r\n",
    "import pandas as pd\r\n",
    "\r\n",
    "full_fd = pd.read_csv(\"C:\\\\Users\\\\zhengqiushi\\\\Desktop\\\\hik\\\\21-08-23\\\\data\\\\ods_july_only_cut_cal_0701_0707_0826_1.csv\")"
   ],
   "outputs": [
    {
     "output_type": "stream",
     "name": "stderr",
     "text": [
      "C:\\Users\\zhengqiushi\\AppData\\Local\\Programs\\Python\\Python39\\lib\\site-packages\\IPython\\core\\interactiveshell.py:3441: DtypeWarning: Columns (0) have mixed types.Specify dtype option on import or set low_memory=False.\n",
      "  exec(code_obj, self.user_global_ns, self.user_ns)\n"
     ]
    }
   ],
   "metadata": {}
  },
  {
   "cell_type": "code",
   "execution_count": 2,
   "source": [
    "# 筛去里程小于3km 且 尚未计算出HMAP的\r\n",
    "full_fd = full_fd[(full_fd['Hmap_dist'] > 0) & (full_fd['zke_lch_jyqk'] > 3)]\r\n"
   ],
   "outputs": [],
   "metadata": {}
  },
  {
   "cell_type": "code",
   "execution_count": 3,
   "source": [
    "def return_mile_bins():\r\n",
    "    '''\r\n",
    "    @brief 按照公里数进行分割\r\n",
    "    @return bins\r\n",
    "    '''\r\n",
    "    cur_hour = 3\r\n",
    "    hour_bins = []\r\n",
    "    while cur_hour < 70:\r\n",
    "        # per_bin = cur_hour * 3600 # pd.to_datetime(date_str + \" {0}:00:00\".format(cur_hour))\r\n",
    "        hour_bins.append(cur_hour)\r\n",
    "        cur_hour = cur_hour + 5\r\n",
    "    return hour_bins"
   ],
   "outputs": [],
   "metadata": {}
  },
  {
   "cell_type": "code",
   "execution_count": 4,
   "source": [
    "thresh = 1\r\n",
    "# 计算实际里程与Hmap理想里程之差\r\n",
    "dist_diff =pd.DataFrame([full_fd['did_bh'], full_fd['zke_lch_jyqk'], full_fd['zke_lch_jyqk'] - full_fd['Hmap_dist']]).T #\r\n",
    "# 筛去距离之差小于1的，属于误差范围之内，不算异常订单\r\n",
    "dist_diff = dist_diff[dist_diff['Unnamed 0'] > thresh]# ['did_bh'].values\r\n",
    "box_ = pd.DataFrame([dist_diff[dist_diff['Unnamed 0'] > thresh]['Unnamed 0']]).T\r\n",
    "# 画箱线图\r\n",
    "box_.columns = pd.Series(['dist diff'])\r\n",
    "box_ = box_[box_['dist diff'] < 100]\r\n",
    "box_.boxplot()"
   ],
   "outputs": [
    {
     "output_type": "execute_result",
     "data": {
      "text/plain": [
       "<AxesSubplot:>"
      ]
     },
     "metadata": {},
     "execution_count": 4
    },
    {
     "output_type": "display_data",
     "data": {
      "image/png": "[encoded data removed]",
      "text/plain": [
       "<Figure size 432x288 with 1 Axes>"
      ]
     },
     "metadata": {
      "needs_background": "light"
     }
    }
   ],
   "metadata": {}
  },
  {
   "cell_type": "code",
   "execution_count": 5,
   "source": [
    "# 按照里程长度进行划分\r\n",
    "bins = return_mile_bins()\r\n",
    "\r\n",
    "dff = dist_diff.groupby(pd.cut(dist_diff['zke_lch_jyqk'], bins=bins)) "
   ],
   "outputs": [],
   "metadata": {}
  },
  {
   "cell_type": "code",
   "execution_count": 6,
   "source": [
    "result_fd = pd.DataFrame()\r\n",
    "# 给下标重命名\r\n",
    "for name,group in dff:\r\n",
    "    result_fd = pd.concat([result_fd, group['Unnamed 0']], axis= 1)\r\n",
    "    result_fd.rename(columns={'Unnamed 0': name}, inplace = True)\r\n",
    "\r\n",
    "print(result_fd)"
   ],
   "outputs": [
    {
     "output_type": "stream",
     "name": "stdout",
     "text": [
      "          (3, 8]   (8, 13] (13, 18]  (18, 23] (23, 28] (28, 33] (33, 38]  \\\n",
      "2       1.573186       NaN      NaN       NaN      NaN      NaN      NaN   \n",
      "7            NaN  2.249881      NaN       NaN      NaN      NaN      NaN   \n",
      "11      3.388808       NaN      NaN       NaN      NaN      NaN      NaN   \n",
      "14      1.229215       NaN      NaN       NaN      NaN      NaN      NaN   \n",
      "24      2.649001       NaN      NaN       NaN      NaN      NaN      NaN   \n",
      "...          ...       ...      ...       ...      ...      ...      ...   \n",
      "472537   1.54467       NaN      NaN       NaN      NaN      NaN      NaN   \n",
      "472603       NaN       NaN      NaN  2.718527      NaN      NaN      NaN   \n",
      "472652   1.02419       NaN      NaN       NaN      NaN      NaN      NaN   \n",
      "472663  1.271284       NaN      NaN       NaN      NaN      NaN      NaN   \n",
      "472672       NaN  6.351887      NaN       NaN      NaN      NaN      NaN   \n",
      "\n",
      "       (38, 43] (43, 48] (48, 53] (53, 58] (58, 63] (63, 68]  \n",
      "2           NaN      NaN      NaN      NaN      NaN      NaN  \n",
      "7           NaN      NaN      NaN      NaN      NaN      NaN  \n",
      "11          NaN      NaN      NaN      NaN      NaN      NaN  \n",
      "14          NaN      NaN      NaN      NaN      NaN      NaN  \n",
      "24          NaN      NaN      NaN      NaN      NaN      NaN  \n",
      "...         ...      ...      ...      ...      ...      ...  \n",
      "472537      NaN      NaN      NaN      NaN      NaN      NaN  \n",
      "472603      NaN      NaN      NaN      NaN      NaN      NaN  \n",
      "472652      NaN      NaN      NaN      NaN      NaN      NaN  \n",
      "472663      NaN      NaN      NaN      NaN      NaN      NaN  \n",
      "472672      NaN      NaN      NaN      NaN      NaN      NaN  \n",
      "\n",
      "[60886 rows x 13 columns]\n"
     ]
    }
   ],
   "metadata": {}
  },
  {
   "cell_type": "code",
   "execution_count": 7,
   "source": [
    "result_fd_plot = result_fd[(result_fd < 100) & (result_fd > 0)]\r\n",
    "\r\n",
    "result_fd_plot.plot.box(rot = 90)\r\n"
   ],
   "outputs": [
    {
     "output_type": "execute_result",
     "data": {
      "text/plain": [
       "<AxesSubplot:>"
      ]
     },
     "metadata": {},
     "execution_count": 7
    },
    {
     "output_type": "display_data",
     "data": {
      "image/png": "[encoded data removed]",
      "text/plain": [
       "<Figure size 432x288 with 1 Axes>"
      ]
     },
     "metadata": {
      "needs_background": "light"
     }
    }
   ],
   "metadata": {}
  },
  {
   "cell_type": "code",
   "execution_count": 11,
   "source": [
    "# 箱线图类型转换?\r\n",
    "result_fd_plot = result_fd_plot.convert_dtypes()\r\n",
    "result_csv = result_fd_plot.describe().T\r\n",
    "\r\n",
    "result_csv[\"upper_thresh\"] = -0.01\r\n",
    "result_csv[\"upper_thresh\"] = result_csv[\"75%\"] + 1.5 * (result_csv[\"75%\"] - result_csv[\"25%\"])\r\n",
    "\r\n",
    "# 打印行程段的describe\r\n",
    "result_csv.T"
   ],
   "outputs": [
    {
     "output_type": "execute_result",
     "data": {
      "text/html": [
       "<div>\n",
       "<style scoped>\n",
       "    .dataframe tbody tr th:only-of-type {\n",
       "        vertical-align: middle;\n",
       "    }\n",
       "\n",
       "    .dataframe tbody tr th {\n",
       "        vertical-align: top;\n",
       "    }\n",
       "\n",
       "    .dataframe thead th {\n",
       "        text-align: right;\n",
       "    }\n",
       "</style>\n",
       "<table border=\"1\" class=\"dataframe\">\n",
       "  <thead>\n",
       "    <tr style=\"text-align: right;\">\n",
       "      <th></th>\n",
       "      <th>(3, 8]</th>\n",
       "      <th>(8, 13]</th>\n",
       "      <th>(13, 18]</th>\n",
       "      <th>(18, 23]</th>\n",
       "      <th>(23, 28]</th>\n",
       "      <th>(28, 33]</th>\n",
       "      <th>(33, 38]</th>\n",
       "      <th>(38, 43]</th>\n",
       "      <th>(43, 48]</th>\n",
       "      <th>(48, 53]</th>\n",
       "      <th>(53, 58]</th>\n",
       "      <th>(58, 63]</th>\n",
       "      <th>(63, 68]</th>\n",
       "    </tr>\n",
       "  </thead>\n",
       "  <tbody>\n",
       "    <tr>\n",
       "      <th>count</th>\n",
       "      <td>63601.000000</td>\n",
       "      <td>28443.000000</td>\n",
       "      <td>15580.000000</td>\n",
       "      <td>8674.000000</td>\n",
       "      <td>4948.000000</td>\n",
       "      <td>2763.000000</td>\n",
       "      <td>1559.000000</td>\n",
       "      <td>999.000000</td>\n",
       "      <td>751.000000</td>\n",
       "      <td>585.000000</td>\n",
       "      <td>382.000000</td>\n",
       "      <td>178.000000</td>\n",
       "      <td>238.000000</td>\n",
       "    </tr>\n",
       "    <tr>\n",
       "      <th>mean</th>\n",
       "      <td>0.940102</td>\n",
       "      <td>1.285063</td>\n",
       "      <td>1.756655</td>\n",
       "      <td>2.246233</td>\n",
       "      <td>2.814924</td>\n",
       "      <td>3.794460</td>\n",
       "      <td>5.074239</td>\n",
       "      <td>5.438425</td>\n",
       "      <td>5.868609</td>\n",
       "      <td>5.089475</td>\n",
       "      <td>6.823353</td>\n",
       "      <td>10.709886</td>\n",
       "      <td>16.725359</td>\n",
       "    </tr>\n",
       "    <tr>\n",
       "      <th>std</th>\n",
       "      <td>0.856781</td>\n",
       "      <td>1.325033</td>\n",
       "      <td>1.881974</td>\n",
       "      <td>2.535030</td>\n",
       "      <td>3.249465</td>\n",
       "      <td>4.229400</td>\n",
       "      <td>5.555130</td>\n",
       "      <td>6.501895</td>\n",
       "      <td>7.977701</td>\n",
       "      <td>7.544191</td>\n",
       "      <td>10.635034</td>\n",
       "      <td>9.487961</td>\n",
       "      <td>8.142750</td>\n",
       "    </tr>\n",
       "    <tr>\n",
       "      <th>min</th>\n",
       "      <td>0.000034</td>\n",
       "      <td>0.000128</td>\n",
       "      <td>0.000356</td>\n",
       "      <td>0.000704</td>\n",
       "      <td>0.000871</td>\n",
       "      <td>0.000472</td>\n",
       "      <td>0.008368</td>\n",
       "      <td>0.006588</td>\n",
       "      <td>0.013207</td>\n",
       "      <td>0.043172</td>\n",
       "      <td>0.020630</td>\n",
       "      <td>0.186361</td>\n",
       "      <td>0.410624</td>\n",
       "    </tr>\n",
       "    <tr>\n",
       "      <th>25%</th>\n",
       "      <td>0.294923</td>\n",
       "      <td>0.398623</td>\n",
       "      <td>0.566892</td>\n",
       "      <td>0.682551</td>\n",
       "      <td>0.830380</td>\n",
       "      <td>1.113007</td>\n",
       "      <td>1.469747</td>\n",
       "      <td>1.563013</td>\n",
       "      <td>1.685592</td>\n",
       "      <td>1.231687</td>\n",
       "      <td>1.080569</td>\n",
       "      <td>4.552842</td>\n",
       "      <td>12.980198</td>\n",
       "    </tr>\n",
       "    <tr>\n",
       "      <th>50%</th>\n",
       "      <td>0.702028</td>\n",
       "      <td>0.926649</td>\n",
       "      <td>1.241414</td>\n",
       "      <td>1.544221</td>\n",
       "      <td>1.916451</td>\n",
       "      <td>2.578507</td>\n",
       "      <td>3.827732</td>\n",
       "      <td>3.512017</td>\n",
       "      <td>3.202317</td>\n",
       "      <td>2.889178</td>\n",
       "      <td>3.519510</td>\n",
       "      <td>8.468242</td>\n",
       "      <td>15.675832</td>\n",
       "    </tr>\n",
       "    <tr>\n",
       "      <th>75%</th>\n",
       "      <td>1.339262</td>\n",
       "      <td>1.734287</td>\n",
       "      <td>2.310195</td>\n",
       "      <td>2.919757</td>\n",
       "      <td>3.587362</td>\n",
       "      <td>4.940042</td>\n",
       "      <td>6.658485</td>\n",
       "      <td>7.148673</td>\n",
       "      <td>6.421596</td>\n",
       "      <td>5.517716</td>\n",
       "      <td>7.685782</td>\n",
       "      <td>13.820713</td>\n",
       "      <td>20.442441</td>\n",
       "    </tr>\n",
       "    <tr>\n",
       "      <th>max</th>\n",
       "      <td>7.859346</td>\n",
       "      <td>12.591456</td>\n",
       "      <td>17.771199</td>\n",
       "      <td>22.249807</td>\n",
       "      <td>27.911622</td>\n",
       "      <td>31.879625</td>\n",
       "      <td>37.620013</td>\n",
       "      <td>41.795241</td>\n",
       "      <td>46.717506</td>\n",
       "      <td>51.709087</td>\n",
       "      <td>57.610649</td>\n",
       "      <td>58.938212</td>\n",
       "      <td>60.397406</td>\n",
       "    </tr>\n",
       "    <tr>\n",
       "      <th>upper_thresh</th>\n",
       "      <td>2.905771</td>\n",
       "      <td>3.737782</td>\n",
       "      <td>4.925150</td>\n",
       "      <td>6.275566</td>\n",
       "      <td>7.722834</td>\n",
       "      <td>10.680593</td>\n",
       "      <td>14.441590</td>\n",
       "      <td>15.527163</td>\n",
       "      <td>13.525601</td>\n",
       "      <td>11.946759</td>\n",
       "      <td>17.593603</td>\n",
       "      <td>27.722520</td>\n",
       "      <td>31.635804</td>\n",
       "    </tr>\n",
       "  </tbody>\n",
       "</table>\n",
       "</div>"
      ],
      "text/plain": [
       "                    (3, 8]       (8, 13]      (13, 18]     (18, 23]  \\\n",
       "count         63601.000000  28443.000000  15580.000000  8674.000000   \n",
       "mean              0.940102      1.285063      1.756655     2.246233   \n",
       "std               0.856781      1.325033      1.881974     2.535030   \n",
       "min               0.000034      0.000128      0.000356     0.000704   \n",
       "25%               0.294923      0.398623      0.566892     0.682551   \n",
       "50%               0.702028      0.926649      1.241414     1.544221   \n",
       "75%               1.339262      1.734287      2.310195     2.919757   \n",
       "max               7.859346     12.591456     17.771199    22.249807   \n",
       "upper_thresh      2.905771      3.737782      4.925150     6.275566   \n",
       "\n",
       "                 (23, 28]     (28, 33]     (33, 38]    (38, 43]    (43, 48]  \\\n",
       "count         4948.000000  2763.000000  1559.000000  999.000000  751.000000   \n",
       "mean             2.814924     3.794460     5.074239    5.438425    5.868609   \n",
       "std              3.249465     4.229400     5.555130    6.501895    7.977701   \n",
       "min              0.000871     0.000472     0.008368    0.006588    0.013207   \n",
       "25%              0.830380     1.113007     1.469747    1.563013    1.685592   \n",
       "50%              1.916451     2.578507     3.827732    3.512017    3.202317   \n",
       "75%              3.587362     4.940042     6.658485    7.148673    6.421596   \n",
       "max             27.911622    31.879625    37.620013   41.795241   46.717506   \n",
       "upper_thresh     7.722834    10.680593    14.441590   15.527163   13.525601   \n",
       "\n",
       "                (48, 53]    (53, 58]    (58, 63]    (63, 68]  \n",
       "count         585.000000  382.000000  178.000000  238.000000  \n",
       "mean            5.089475    6.823353   10.709886   16.725359  \n",
       "std             7.544191   10.635034    9.487961    8.142750  \n",
       "min             0.043172    0.020630    0.186361    0.410624  \n",
       "25%             1.231687    1.080569    4.552842   12.980198  \n",
       "50%             2.889178    3.519510    8.468242   15.675832  \n",
       "75%             5.517716    7.685782   13.820713   20.442441  \n",
       "max            51.709087   57.610649   58.938212   60.397406  \n",
       "upper_thresh   11.946759   17.593603   27.722520   31.635804  "
      ]
     },
     "metadata": {},
     "execution_count": 11
    }
   ],
   "metadata": {}
  },
  {
   "cell_type": "code",
   "execution_count": 62,
   "source": [
    "result_csv.T.to_csv(\"C:\\\\Users\\\\zhengqiushi\\\\Desktop\\\\hik\\\\21-08-23\\\\data\\\\task1_ods_july_diff_with_hmap_describe.csv\")"
   ],
   "outputs": [],
   "metadata": {}
  }
 ],
 "metadata": {
  "orig_nbformat": 4,
  "language_info": {
   "name": "python",
   "version": "3.9.6",
   "mimetype": "text/x-python",
   "codemirror_mode": {
    "name": "ipython",
    "version": 3
   },
   "pygments_lexer": "ipython3",
   "nbconvert_exporter": "python",
   "file_extension": ".py"
  },
  "kernelspec": {
   "name": "python3",
   "display_name": "Python 3.9.6 64-bit"
  },
  "interpreter": {
   "hash": "8e118ca72c34c5c5aa24d76c6e51e2fd1bf1dc26fbc6eb00cec6390678d4abe2"
  }
 },
 "nbformat": 4,
 "nbformat_minor": 2
}